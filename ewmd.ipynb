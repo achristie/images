{
 "cells": [
  {
   "attachments": {},
   "cell_type": "markdown",
   "metadata": {},
   "source": [
    "## eWindow Market Data - Deal Count and Avg. Price\n",
    "\n",
    "This notebook uses the eWindow Market Data API to get Deal Counts and Price over time per Market/Product/Strip.\n"
   ]
  },
  {
   "attachments": {},
   "cell_type": "markdown",
   "metadata": {},
   "source": [
    "### Initial Setup\n"
   ]
  },
  {
   "cell_type": "code",
   "execution_count": 1,
   "metadata": {},
   "outputs": [],
   "source": [
    "# uncomment below to install dependencies\n",
    "# !pip install spgci pandas plotly dash jupyter-dash\n"
   ]
  },
  {
   "cell_type": "code",
   "execution_count": 2,
   "metadata": {},
   "outputs": [],
   "source": [
    "import spgci as ci\n",
    "from datetime import date, timedelta\n",
    "import pandas as pd\n",
    "from typing import Literal\n"
   ]
  },
  {
   "cell_type": "code",
   "execution_count": 3,
   "metadata": {},
   "outputs": [],
   "source": [
    "# uncomment below to set your credentials\n",
    "# ci.set_credentials(\"username\", \"password\", \"appkey\")\n",
    "ewmd = ci.EWindowMarketData()\n"
   ]
  },
  {
   "attachments": {},
   "cell_type": "markdown",
   "metadata": {},
   "source": [
    "### Getting the List of Markets\n",
    "\n",
    "`get_markets` returns the list of markets you're entitled to.\n",
    "\n",
    "Filtering down to markets with activity in the last 5 days.\n"
   ]
  },
  {
   "cell_type": "code",
   "execution_count": 4,
   "metadata": {},
   "outputs": [
    {
     "data": {
      "text/html": [
       "<div>\n",
       "<style scoped>\n",
       "    .dataframe tbody tr th:only-of-type {\n",
       "        vertical-align: middle;\n",
       "    }\n",
       "\n",
       "    .dataframe tbody tr th {\n",
       "        vertical-align: top;\n",
       "    }\n",
       "\n",
       "    .dataframe thead th {\n",
       "        text-align: right;\n",
       "    }\n",
       "</style>\n",
       "<table border=\"1\" class=\"dataframe\">\n",
       "  <thead>\n",
       "    <tr style=\"text-align: right;\">\n",
       "      <th></th>\n",
       "      <th>market</th>\n",
       "      <th>max(order_date)</th>\n",
       "    </tr>\n",
       "  </thead>\n",
       "  <tbody>\n",
       "    <tr>\n",
       "      <th>28</th>\n",
       "      <td>EU NSEA PVO</td>\n",
       "      <td>2023-04-06</td>\n",
       "    </tr>\n",
       "    <tr>\n",
       "      <th>1</th>\n",
       "      <td>ASIA Bunker North</td>\n",
       "      <td>2023-04-06</td>\n",
       "    </tr>\n",
       "    <tr>\n",
       "      <th>17</th>\n",
       "      <td>EU Brent CFD</td>\n",
       "      <td>2023-04-06</td>\n",
       "    </tr>\n",
       "    <tr>\n",
       "      <th>19</th>\n",
       "      <td>EU FO</td>\n",
       "      <td>2023-04-06</td>\n",
       "    </tr>\n",
       "    <tr>\n",
       "      <th>29</th>\n",
       "      <td>US Ethanol</td>\n",
       "      <td>2023-04-10</td>\n",
       "    </tr>\n",
       "    <tr>\n",
       "      <th>27</th>\n",
       "      <td>EU Naphtha PVO</td>\n",
       "      <td>2023-04-06</td>\n",
       "    </tr>\n",
       "    <tr>\n",
       "      <th>30</th>\n",
       "      <td>US FO Physical</td>\n",
       "      <td>2023-04-10</td>\n",
       "    </tr>\n",
       "    <tr>\n",
       "      <th>9</th>\n",
       "      <td>ASIA MD (PVO)</td>\n",
       "      <td>2023-04-10</td>\n",
       "    </tr>\n",
       "    <tr>\n",
       "      <th>18</th>\n",
       "      <td>EU Ethanol</td>\n",
       "      <td>2023-04-06</td>\n",
       "    </tr>\n",
       "    <tr>\n",
       "      <th>32</th>\n",
       "      <td>US LPG</td>\n",
       "      <td>2023-04-10</td>\n",
       "    </tr>\n",
       "  </tbody>\n",
       "</table>\n",
       "</div>"
      ],
      "text/plain": [
       "               market max(order_date)\n",
       "28        EU NSEA PVO      2023-04-06\n",
       "1   ASIA Bunker North      2023-04-06\n",
       "17       EU Brent CFD      2023-04-06\n",
       "19              EU FO      2023-04-06\n",
       "29         US Ethanol      2023-04-10\n",
       "27     EU Naphtha PVO      2023-04-06\n",
       "30     US FO Physical      2023-04-10\n",
       "9       ASIA MD (PVO)      2023-04-10\n",
       "18         EU Ethanol      2023-04-06\n",
       "32             US LPG      2023-04-10"
      ]
     },
     "execution_count": 4,
     "metadata": {},
     "output_type": "execute_result"
    }
   ],
   "source": [
    "markets = ewmd.get_markets()\n",
    "filt = markets[\"max(order_date)\"].dt.date >= date.today() - timedelta(days=5)\n",
    "markets = markets[filt].reset_index(drop=True)\n",
    "markets.sample(10)\n"
   ]
  },
  {
   "attachments": {},
   "cell_type": "markdown",
   "metadata": {},
   "source": [
    "### Getting Data\n",
    "\n",
    "the `get_data` function will get `consummated` trades for a particular `market` and `date_lower` <= `order_time` <= `date_upper`.\n"
   ]
  },
  {
   "cell_type": "code",
   "execution_count": 5,
   "metadata": {},
   "outputs": [
    {
     "data": {
      "text/html": [
       "<div>\n",
       "<style scoped>\n",
       "    .dataframe tbody tr th:only-of-type {\n",
       "        vertical-align: middle;\n",
       "    }\n",
       "\n",
       "    .dataframe tbody tr th {\n",
       "        vertical-align: top;\n",
       "    }\n",
       "\n",
       "    .dataframe thead th {\n",
       "        text-align: right;\n",
       "    }\n",
       "</style>\n",
       "<table border=\"1\" class=\"dataframe\">\n",
       "  <thead>\n",
       "    <tr style=\"text-align: right;\">\n",
       "      <th></th>\n",
       "      <th>market</th>\n",
       "      <th>product</th>\n",
       "      <th>hub</th>\n",
       "      <th>strip</th>\n",
       "      <th>update_time</th>\n",
       "      <th>market_maker</th>\n",
       "      <th>order_type</th>\n",
       "      <th>order_state</th>\n",
       "      <th>buyer</th>\n",
       "      <th>seller</th>\n",
       "      <th>...</th>\n",
       "      <th>reference_order_id</th>\n",
       "      <th>order_platts_id</th>\n",
       "      <th>order_cancelled</th>\n",
       "      <th>order_derived</th>\n",
       "      <th>order_quantity_total</th>\n",
       "      <th>order_repeat</th>\n",
       "      <th>leg_prices</th>\n",
       "      <th>parent_deal_id</th>\n",
       "      <th>order_spread</th>\n",
       "      <th>order_state_detail</th>\n",
       "    </tr>\n",
       "  </thead>\n",
       "  <tbody>\n",
       "    <tr>\n",
       "      <th>0</th>\n",
       "      <td>[EU BFOE]</td>\n",
       "      <td>Platts Cash BFOE</td>\n",
       "      <td>Cash Partials BFOE</td>\n",
       "      <td>Jun23</td>\n",
       "      <td>2023-03-31T15:29:31.730</td>\n",
       "      <td>Mercuria Energy Trading SA</td>\n",
       "      <td>Offer</td>\n",
       "      <td>consummated</td>\n",
       "      <td>Vitol SA</td>\n",
       "      <td>Mercuria Energy Trading SA</td>\n",
       "      <td>...</td>\n",
       "      <td>759115177.0</td>\n",
       "      <td>99402935</td>\n",
       "      <td>F</td>\n",
       "      <td>F</td>\n",
       "      <td>100000</td>\n",
       "      <td>None</td>\n",
       "      <td>None</td>\n",
       "      <td>None</td>\n",
       "      <td>F</td>\n",
       "      <td>consummated</td>\n",
       "    </tr>\n",
       "    <tr>\n",
       "      <th>1</th>\n",
       "      <td>[EU BFOE]</td>\n",
       "      <td>Platts Cash BFOE</td>\n",
       "      <td>Cash Partials BFOE</td>\n",
       "      <td>Jun23</td>\n",
       "      <td>2023-03-31T15:29:22.869</td>\n",
       "      <td>Mercuria Energy Trading SA</td>\n",
       "      <td>Offer</td>\n",
       "      <td>consummated</td>\n",
       "      <td>Vitol SA</td>\n",
       "      <td>Mercuria Energy Trading SA</td>\n",
       "      <td>...</td>\n",
       "      <td>759115177.0</td>\n",
       "      <td>99402928</td>\n",
       "      <td>F</td>\n",
       "      <td>F</td>\n",
       "      <td>100000</td>\n",
       "      <td>None</td>\n",
       "      <td>None</td>\n",
       "      <td>None</td>\n",
       "      <td>F</td>\n",
       "      <td>consummated</td>\n",
       "    </tr>\n",
       "    <tr>\n",
       "      <th>2</th>\n",
       "      <td>[EU BFOE]</td>\n",
       "      <td>Platts Cash BFOE</td>\n",
       "      <td>Cash Partials BFOE</td>\n",
       "      <td>Jun23</td>\n",
       "      <td>2023-03-31T15:29:10.699</td>\n",
       "      <td>Mercuria Energy Trading SA</td>\n",
       "      <td>Offer</td>\n",
       "      <td>consummated</td>\n",
       "      <td>Gunvor SA</td>\n",
       "      <td>Mercuria Energy Trading SA</td>\n",
       "      <td>...</td>\n",
       "      <td>103446557.0</td>\n",
       "      <td>99402899</td>\n",
       "      <td>F</td>\n",
       "      <td>F</td>\n",
       "      <td>100000</td>\n",
       "      <td>None</td>\n",
       "      <td>None</td>\n",
       "      <td>None</td>\n",
       "      <td>F</td>\n",
       "      <td>consummated</td>\n",
       "    </tr>\n",
       "    <tr>\n",
       "      <th>3</th>\n",
       "      <td>[EU BFOE]</td>\n",
       "      <td>Platts Cash BFOE</td>\n",
       "      <td>Cash Partials BFOE</td>\n",
       "      <td>Jun23</td>\n",
       "      <td>2023-03-30T15:29:58.868</td>\n",
       "      <td>Gunvor SA</td>\n",
       "      <td>Offer</td>\n",
       "      <td>consummated</td>\n",
       "      <td>Mercuria Energy Trading SA</td>\n",
       "      <td>Gunvor SA</td>\n",
       "      <td>...</td>\n",
       "      <td>978848165.0</td>\n",
       "      <td>99402618</td>\n",
       "      <td>F</td>\n",
       "      <td>F</td>\n",
       "      <td>100000</td>\n",
       "      <td>None</td>\n",
       "      <td>None</td>\n",
       "      <td>None</td>\n",
       "      <td>F</td>\n",
       "      <td>consummated</td>\n",
       "    </tr>\n",
       "    <tr>\n",
       "      <th>4</th>\n",
       "      <td>[EU BFOE]</td>\n",
       "      <td>Platts Cash BFOE</td>\n",
       "      <td>Cash Partials BFOE</td>\n",
       "      <td>Jun23</td>\n",
       "      <td>2023-03-30T15:29:52.905</td>\n",
       "      <td>Mercuria Energy Trading SA</td>\n",
       "      <td>Bid</td>\n",
       "      <td>consummated</td>\n",
       "      <td>Mercuria Energy Trading SA</td>\n",
       "      <td>Gunvor SA</td>\n",
       "      <td>...</td>\n",
       "      <td>521072649.0</td>\n",
       "      <td>99402604</td>\n",
       "      <td>F</td>\n",
       "      <td>F</td>\n",
       "      <td>100000</td>\n",
       "      <td>None</td>\n",
       "      <td>None</td>\n",
       "      <td>None</td>\n",
       "      <td>F</td>\n",
       "      <td>consummated</td>\n",
       "    </tr>\n",
       "    <tr>\n",
       "      <th>...</th>\n",
       "      <td>...</td>\n",
       "      <td>...</td>\n",
       "      <td>...</td>\n",
       "      <td>...</td>\n",
       "      <td>...</td>\n",
       "      <td>...</td>\n",
       "      <td>...</td>\n",
       "      <td>...</td>\n",
       "      <td>...</td>\n",
       "      <td>...</td>\n",
       "      <td>...</td>\n",
       "      <td>...</td>\n",
       "      <td>...</td>\n",
       "      <td>...</td>\n",
       "      <td>...</td>\n",
       "      <td>...</td>\n",
       "      <td>...</td>\n",
       "      <td>...</td>\n",
       "      <td>...</td>\n",
       "      <td>...</td>\n",
       "      <td>...</td>\n",
       "    </tr>\n",
       "    <tr>\n",
       "      <th>310</th>\n",
       "      <td>[EU BFOE]</td>\n",
       "      <td>Platts Cash BFOE</td>\n",
       "      <td>Cash Partials BFOE</td>\n",
       "      <td>Mar23</td>\n",
       "      <td>2023-01-03T16:29:49.126</td>\n",
       "      <td>Mercuria Energy Trading SA</td>\n",
       "      <td>Offer</td>\n",
       "      <td>consummated</td>\n",
       "      <td>Hartree Partners, LP</td>\n",
       "      <td>Mercuria Energy Trading SA</td>\n",
       "      <td>...</td>\n",
       "      <td>282371768.0</td>\n",
       "      <td>99402066</td>\n",
       "      <td>F</td>\n",
       "      <td>F</td>\n",
       "      <td>100000</td>\n",
       "      <td>None</td>\n",
       "      <td>None</td>\n",
       "      <td>None</td>\n",
       "      <td>F</td>\n",
       "      <td>consummated</td>\n",
       "    </tr>\n",
       "    <tr>\n",
       "      <th>311</th>\n",
       "      <td>[EU BFOE]</td>\n",
       "      <td>Platts Cash BFOE</td>\n",
       "      <td>Cash Partials BFOE</td>\n",
       "      <td>Mar23</td>\n",
       "      <td>2023-01-03T16:29:46.436</td>\n",
       "      <td>Vitol SA</td>\n",
       "      <td>Offer</td>\n",
       "      <td>consummated</td>\n",
       "      <td>Glencore Commodities Ltd.</td>\n",
       "      <td>Vitol SA</td>\n",
       "      <td>...</td>\n",
       "      <td>726710539.0</td>\n",
       "      <td>99402059</td>\n",
       "      <td>F</td>\n",
       "      <td>F</td>\n",
       "      <td>100000</td>\n",
       "      <td>None</td>\n",
       "      <td>None</td>\n",
       "      <td>None</td>\n",
       "      <td>F</td>\n",
       "      <td>consummated</td>\n",
       "    </tr>\n",
       "    <tr>\n",
       "      <th>312</th>\n",
       "      <td>[EU BFOE]</td>\n",
       "      <td>Platts Cash BFOE</td>\n",
       "      <td>Cash Partials BFOE</td>\n",
       "      <td>Mar23</td>\n",
       "      <td>2023-01-03T16:29:39.646</td>\n",
       "      <td>Mercuria Energy Trading SA</td>\n",
       "      <td>Offer</td>\n",
       "      <td>consummated</td>\n",
       "      <td>Chevron Products UK Limited</td>\n",
       "      <td>Mercuria Energy Trading SA</td>\n",
       "      <td>...</td>\n",
       "      <td>591131310.0</td>\n",
       "      <td>99401960</td>\n",
       "      <td>F</td>\n",
       "      <td>F</td>\n",
       "      <td>100000</td>\n",
       "      <td>None</td>\n",
       "      <td>None</td>\n",
       "      <td>None</td>\n",
       "      <td>F</td>\n",
       "      <td>consummated</td>\n",
       "    </tr>\n",
       "    <tr>\n",
       "      <th>313</th>\n",
       "      <td>[EU BFOE]</td>\n",
       "      <td>Platts Cash BFOE</td>\n",
       "      <td>Cash Partials BFOE</td>\n",
       "      <td>Mar23</td>\n",
       "      <td>2023-01-03T16:29:36.960</td>\n",
       "      <td>Vitol SA</td>\n",
       "      <td>Offer</td>\n",
       "      <td>consummated</td>\n",
       "      <td>Hartree Partners, LP</td>\n",
       "      <td>Vitol SA</td>\n",
       "      <td>...</td>\n",
       "      <td>591131310.0</td>\n",
       "      <td>99402053</td>\n",
       "      <td>F</td>\n",
       "      <td>F</td>\n",
       "      <td>100000</td>\n",
       "      <td>None</td>\n",
       "      <td>None</td>\n",
       "      <td>None</td>\n",
       "      <td>F</td>\n",
       "      <td>consummated</td>\n",
       "    </tr>\n",
       "    <tr>\n",
       "      <th>314</th>\n",
       "      <td>[EU BFOE]</td>\n",
       "      <td>Platts Cash BFOE</td>\n",
       "      <td>Cash Partials BFOE</td>\n",
       "      <td>Mar23</td>\n",
       "      <td>2023-01-03T16:29:33.854</td>\n",
       "      <td>Vitol SA</td>\n",
       "      <td>Offer</td>\n",
       "      <td>consummated</td>\n",
       "      <td>Hartree Partners, LP</td>\n",
       "      <td>Vitol SA</td>\n",
       "      <td>...</td>\n",
       "      <td>518704635.0</td>\n",
       "      <td>99401961</td>\n",
       "      <td>F</td>\n",
       "      <td>F</td>\n",
       "      <td>100000</td>\n",
       "      <td>None</td>\n",
       "      <td>None</td>\n",
       "      <td>None</td>\n",
       "      <td>F</td>\n",
       "      <td>consummated</td>\n",
       "    </tr>\n",
       "  </tbody>\n",
       "</table>\n",
       "<p>315 rows × 68 columns</p>\n",
       "</div>"
      ],
      "text/plain": [
       "        market           product                 hub  strip  \\\n",
       "0    [EU BFOE]  Platts Cash BFOE  Cash Partials BFOE  Jun23   \n",
       "1    [EU BFOE]  Platts Cash BFOE  Cash Partials BFOE  Jun23   \n",
       "2    [EU BFOE]  Platts Cash BFOE  Cash Partials BFOE  Jun23   \n",
       "3    [EU BFOE]  Platts Cash BFOE  Cash Partials BFOE  Jun23   \n",
       "4    [EU BFOE]  Platts Cash BFOE  Cash Partials BFOE  Jun23   \n",
       "..         ...               ...                 ...    ...   \n",
       "310  [EU BFOE]  Platts Cash BFOE  Cash Partials BFOE  Mar23   \n",
       "311  [EU BFOE]  Platts Cash BFOE  Cash Partials BFOE  Mar23   \n",
       "312  [EU BFOE]  Platts Cash BFOE  Cash Partials BFOE  Mar23   \n",
       "313  [EU BFOE]  Platts Cash BFOE  Cash Partials BFOE  Mar23   \n",
       "314  [EU BFOE]  Platts Cash BFOE  Cash Partials BFOE  Mar23   \n",
       "\n",
       "                 update_time                market_maker order_type  \\\n",
       "0    2023-03-31T15:29:31.730  Mercuria Energy Trading SA      Offer   \n",
       "1    2023-03-31T15:29:22.869  Mercuria Energy Trading SA      Offer   \n",
       "2    2023-03-31T15:29:10.699  Mercuria Energy Trading SA      Offer   \n",
       "3    2023-03-30T15:29:58.868                   Gunvor SA      Offer   \n",
       "4    2023-03-30T15:29:52.905  Mercuria Energy Trading SA        Bid   \n",
       "..                       ...                         ...        ...   \n",
       "310  2023-01-03T16:29:49.126  Mercuria Energy Trading SA      Offer   \n",
       "311  2023-01-03T16:29:46.436                    Vitol SA      Offer   \n",
       "312  2023-01-03T16:29:39.646  Mercuria Energy Trading SA      Offer   \n",
       "313  2023-01-03T16:29:36.960                    Vitol SA      Offer   \n",
       "314  2023-01-03T16:29:33.854                    Vitol SA      Offer   \n",
       "\n",
       "     order_state                        buyer                      seller  \\\n",
       "0    consummated                     Vitol SA  Mercuria Energy Trading SA   \n",
       "1    consummated                     Vitol SA  Mercuria Energy Trading SA   \n",
       "2    consummated                    Gunvor SA  Mercuria Energy Trading SA   \n",
       "3    consummated   Mercuria Energy Trading SA                   Gunvor SA   \n",
       "4    consummated   Mercuria Energy Trading SA                   Gunvor SA   \n",
       "..           ...                          ...                         ...   \n",
       "310  consummated         Hartree Partners, LP  Mercuria Energy Trading SA   \n",
       "311  consummated    Glencore Commodities Ltd.                    Vitol SA   \n",
       "312  consummated  Chevron Products UK Limited  Mercuria Energy Trading SA   \n",
       "313  consummated         Hartree Partners, LP                    Vitol SA   \n",
       "314  consummated         Hartree Partners, LP                    Vitol SA   \n",
       "\n",
       "     ...  reference_order_id order_platts_id  order_cancelled  order_derived  \\\n",
       "0    ...         759115177.0        99402935                F              F   \n",
       "1    ...         759115177.0        99402928                F              F   \n",
       "2    ...         103446557.0        99402899                F              F   \n",
       "3    ...         978848165.0        99402618                F              F   \n",
       "4    ...         521072649.0        99402604                F              F   \n",
       "..   ...                 ...             ...              ...            ...   \n",
       "310  ...         282371768.0        99402066                F              F   \n",
       "311  ...         726710539.0        99402059                F              F   \n",
       "312  ...         591131310.0        99401960                F              F   \n",
       "313  ...         591131310.0        99402053                F              F   \n",
       "314  ...         518704635.0        99401961                F              F   \n",
       "\n",
       "    order_quantity_total order_repeat leg_prices parent_deal_id order_spread  \\\n",
       "0                 100000         None       None           None            F   \n",
       "1                 100000         None       None           None            F   \n",
       "2                 100000         None       None           None            F   \n",
       "3                 100000         None       None           None            F   \n",
       "4                 100000         None       None           None            F   \n",
       "..                   ...          ...        ...            ...          ...   \n",
       "310               100000         None       None           None            F   \n",
       "311               100000         None       None           None            F   \n",
       "312               100000         None       None           None            F   \n",
       "313               100000         None       None           None            F   \n",
       "314               100000         None       None           None            F   \n",
       "\n",
       "     order_state_detail  \n",
       "0           consummated  \n",
       "1           consummated  \n",
       "2           consummated  \n",
       "3           consummated  \n",
       "4           consummated  \n",
       "..                  ...  \n",
       "310         consummated  \n",
       "311         consummated  \n",
       "312         consummated  \n",
       "313         consummated  \n",
       "314         consummated  \n",
       "\n",
       "[315 rows x 68 columns]"
      ]
     },
     "execution_count": 5,
     "metadata": {},
     "output_type": "execute_result"
    }
   ],
   "source": [
    "def get_data(market: str, date_lower: date, date_upper: date):\n",
    "    df = ewmd.get_botes(\n",
    "        market=market,\n",
    "        order_state=ewmd.OrderState.Consummated,\n",
    "        order_time_gte=date_lower,\n",
    "        order_time_lte=date_upper,\n",
    "        paginate=True,\n",
    "    )\n",
    "    return df\n",
    "\n",
    "\n",
    "df = get_data(\"EU BFOE\", date(2023, 1, 1), date(2023, 3, 31))\n",
    "df\n"
   ]
  },
  {
   "attachments": {},
   "cell_type": "markdown",
   "metadata": {},
   "source": [
    "### Vizualize the Data\n",
    "\n",
    "- Prepare the data for plotting - group by day; average of price, count of deals.\n",
    "- Use Plotly to display in bar/line chart.\n"
   ]
  },
  {
   "cell_type": "code",
   "execution_count": 6,
   "metadata": {},
   "outputs": [
    {
     "data": {
      "text/html": [
       "<div>\n",
       "<style scoped>\n",
       "    .dataframe tbody tr th:only-of-type {\n",
       "        vertical-align: middle;\n",
       "    }\n",
       "\n",
       "    .dataframe tbody tr th {\n",
       "        vertical-align: top;\n",
       "    }\n",
       "\n",
       "    .dataframe thead th {\n",
       "        text-align: right;\n",
       "    }\n",
       "</style>\n",
       "<table border=\"1\" class=\"dataframe\">\n",
       "  <thead>\n",
       "    <tr style=\"text-align: right;\">\n",
       "      <th></th>\n",
       "      <th>Day</th>\n",
       "      <th>Product</th>\n",
       "      <th>Strip</th>\n",
       "      <th>Trade Count</th>\n",
       "      <th>Avg. Price</th>\n",
       "      <th>Trade QTY</th>\n",
       "      <th>CCY</th>\n",
       "      <th>UOM</th>\n",
       "    </tr>\n",
       "  </thead>\n",
       "  <tbody>\n",
       "    <tr>\n",
       "      <th>0</th>\n",
       "      <td>2023-01-03</td>\n",
       "      <td>Platts Cash BFOE</td>\n",
       "      <td>Mar23</td>\n",
       "      <td>7</td>\n",
       "      <td>83.217143</td>\n",
       "      <td>100.0</td>\n",
       "      <td>USD</td>\n",
       "      <td>bbl</td>\n",
       "    </tr>\n",
       "    <tr>\n",
       "      <th>1</th>\n",
       "      <td>2023-01-04</td>\n",
       "      <td>Platts Cash BFOE</td>\n",
       "      <td>Mar23</td>\n",
       "      <td>4</td>\n",
       "      <td>77.970000</td>\n",
       "      <td>100.0</td>\n",
       "      <td>USD</td>\n",
       "      <td>bbl</td>\n",
       "    </tr>\n",
       "    <tr>\n",
       "      <th>2</th>\n",
       "      <td>2023-01-05</td>\n",
       "      <td>Platts Cash BFOE</td>\n",
       "      <td>Mar23</td>\n",
       "      <td>4</td>\n",
       "      <td>79.142500</td>\n",
       "      <td>100.0</td>\n",
       "      <td>USD</td>\n",
       "      <td>bbl</td>\n",
       "    </tr>\n",
       "    <tr>\n",
       "      <th>3</th>\n",
       "      <td>2023-01-06</td>\n",
       "      <td>Platts Cash BFOE</td>\n",
       "      <td>Mar23</td>\n",
       "      <td>2</td>\n",
       "      <td>79.755000</td>\n",
       "      <td>100.0</td>\n",
       "      <td>USD</td>\n",
       "      <td>bbl</td>\n",
       "    </tr>\n",
       "    <tr>\n",
       "      <th>4</th>\n",
       "      <td>2023-01-09</td>\n",
       "      <td>Platts Cash BFOE</td>\n",
       "      <td>Apr23</td>\n",
       "      <td>1</td>\n",
       "      <td>79.970000</td>\n",
       "      <td>100.0</td>\n",
       "      <td>USD</td>\n",
       "      <td>bbl</td>\n",
       "    </tr>\n",
       "    <tr>\n",
       "      <th>...</th>\n",
       "      <td>...</td>\n",
       "      <td>...</td>\n",
       "      <td>...</td>\n",
       "      <td>...</td>\n",
       "      <td>...</td>\n",
       "      <td>...</td>\n",
       "      <td>...</td>\n",
       "      <td>...</td>\n",
       "    </tr>\n",
       "    <tr>\n",
       "      <th>79</th>\n",
       "      <td>2023-03-28</td>\n",
       "      <td>Platts Cash BFOE</td>\n",
       "      <td>Jun23</td>\n",
       "      <td>6</td>\n",
       "      <td>78.200000</td>\n",
       "      <td>100.0</td>\n",
       "      <td>USD</td>\n",
       "      <td>bbl</td>\n",
       "    </tr>\n",
       "    <tr>\n",
       "      <th>80</th>\n",
       "      <td>2023-03-28</td>\n",
       "      <td>Platts Cash BFOE</td>\n",
       "      <td>May23</td>\n",
       "      <td>2</td>\n",
       "      <td>78.800000</td>\n",
       "      <td>100.0</td>\n",
       "      <td>USD</td>\n",
       "      <td>bbl</td>\n",
       "    </tr>\n",
       "    <tr>\n",
       "      <th>81</th>\n",
       "      <td>2023-03-29</td>\n",
       "      <td>Platts Cash BFOE</td>\n",
       "      <td>Jun23</td>\n",
       "      <td>5</td>\n",
       "      <td>78.440000</td>\n",
       "      <td>100.0</td>\n",
       "      <td>USD</td>\n",
       "      <td>bbl</td>\n",
       "    </tr>\n",
       "    <tr>\n",
       "      <th>82</th>\n",
       "      <td>2023-03-30</td>\n",
       "      <td>Platts Cash BFOE</td>\n",
       "      <td>Jun23</td>\n",
       "      <td>10</td>\n",
       "      <td>78.361000</td>\n",
       "      <td>100.0</td>\n",
       "      <td>USD</td>\n",
       "      <td>bbl</td>\n",
       "    </tr>\n",
       "    <tr>\n",
       "      <th>83</th>\n",
       "      <td>2023-03-31</td>\n",
       "      <td>Platts Cash BFOE</td>\n",
       "      <td>Jun23</td>\n",
       "      <td>3</td>\n",
       "      <td>79.200000</td>\n",
       "      <td>100.0</td>\n",
       "      <td>USD</td>\n",
       "      <td>bbl</td>\n",
       "    </tr>\n",
       "  </tbody>\n",
       "</table>\n",
       "<p>84 rows × 8 columns</p>\n",
       "</div>"
      ],
      "text/plain": [
       "          Day           Product  Strip  Trade Count  Avg. Price  Trade QTY  \\\n",
       "0  2023-01-03  Platts Cash BFOE  Mar23            7   83.217143      100.0   \n",
       "1  2023-01-04  Platts Cash BFOE  Mar23            4   77.970000      100.0   \n",
       "2  2023-01-05  Platts Cash BFOE  Mar23            4   79.142500      100.0   \n",
       "3  2023-01-06  Platts Cash BFOE  Mar23            2   79.755000      100.0   \n",
       "4  2023-01-09  Platts Cash BFOE  Apr23            1   79.970000      100.0   \n",
       "..        ...               ...    ...          ...         ...        ...   \n",
       "79 2023-03-28  Platts Cash BFOE  Jun23            6   78.200000      100.0   \n",
       "80 2023-03-28  Platts Cash BFOE  May23            2   78.800000      100.0   \n",
       "81 2023-03-29  Platts Cash BFOE  Jun23            5   78.440000      100.0   \n",
       "82 2023-03-30  Platts Cash BFOE  Jun23           10   78.361000      100.0   \n",
       "83 2023-03-31  Platts Cash BFOE  Jun23            3   79.200000      100.0   \n",
       "\n",
       "    CCY  UOM  \n",
       "0   USD  bbl  \n",
       "1   USD  bbl  \n",
       "2   USD  bbl  \n",
       "3   USD  bbl  \n",
       "4   USD  bbl  \n",
       "..  ...  ...  \n",
       "79  USD  bbl  \n",
       "80  USD  bbl  \n",
       "81  USD  bbl  \n",
       "82  USD  bbl  \n",
       "83  USD  bbl  \n",
       "\n",
       "[84 rows x 8 columns]"
      ]
     },
     "execution_count": 6,
     "metadata": {},
     "output_type": "execute_result"
    }
   ],
   "source": [
    "def group_df(df: pd.DataFrame) -> pd.DataFrame:\n",
    "    grouped = (\n",
    "        df.groupby(\n",
    "            [pd.Grouper(key=\"order_time\", freq=\"D\", label=\"left\"), \"product\", \"strip\"]\n",
    "        )\n",
    "        .agg(\n",
    "            {\n",
    "                \"market\": \"count\",\n",
    "                \"price\": \"mean\",\n",
    "                \"deal_quantity\": \"mean\",\n",
    "                \"price_unit\": \"max\",\n",
    "                \"lot_unit\": \"max\",\n",
    "            }\n",
    "        )\n",
    "        .reset_index(drop=False)\n",
    "    )\n",
    "\n",
    "    grouped.columns = [\n",
    "        \"Day\",\n",
    "        \"Product\",\n",
    "        \"Strip\",\n",
    "        \"Trade Count\",\n",
    "        \"Avg. Price\",\n",
    "        \"Trade QTY\",\n",
    "        \"CCY\",\n",
    "        \"UOM\",\n",
    "    ]\n",
    "    return grouped\n",
    "\n",
    "\n",
    "grouped = group_df(df)\n",
    "grouped\n"
   ]
  },
  {
   "cell_type": "code",
   "execution_count": 7,
   "metadata": {},
   "outputs": [],
   "source": [
    "import plotly.express as px\n",
    "import plotly.graph_objects as go\n",
    "import plotly.io as pio\n",
    "\n",
    "pio.templates.default = \"plotly_dark\"\n",
    "pio.renderers.default = \"plotly_mimetype+notebook_connected\" # so the charts are included in html output"
   ]
  },
  {
   "cell_type": "code",
   "execution_count": 8,
   "metadata": {},
   "outputs": [
    {
     "data": {
      "text/html": [
       "        <script type=\"text/javascript\">\n",
       "        window.PlotlyConfig = {MathJaxConfig: 'local'};\n",
       "        if (window.MathJax && window.MathJax.Hub && window.MathJax.Hub.Config) {window.MathJax.Hub.Config({SVG: {font: \"STIX-Web\"}});}\n",
       "        if (typeof require !== 'undefined') {\n",
       "        require.undef(\"plotly\");\n",
       "        requirejs.config({\n",
       "            paths: {\n",
       "                'plotly': ['https://cdn.plot.ly/plotly-2.20.0.min']\n",
       "            }\n",
       "        });\n",
       "        require(['plotly'], function(Plotly) {\n",
       "            window._Plotly = Plotly;\n",
       "        });\n",
       "        }\n",
       "        </script>\n",
       "        "
      ]
     },
     "metadata": {},
     "output_type": "display_data"
    },
    {
     "data": {
      "application/vnd.plotly.v1+json": {
       "config": {
        "plotlyServerURL": "https://plot.ly"
       },
       "data": [
        {
         "alignmentgroup": "True",
         "hovertemplate": "Strip=Mar23<br>Product=Platts Cash BFOE<br>Day=%{x}<br>Trade Count=%{y}<extra></extra>",
         "legendgroup": "Mar23",
         "marker": {
          "color": "#636efa",
          "pattern": {
           "shape": ""
          }
         },
         "name": "Mar23",
         "offsetgroup": "Mar23",
         "orientation": "v",
         "showlegend": true,
         "textposition": "auto",
         "type": "bar",
         "x": [
          "2023-01-03T00:00:00",
          "2023-01-04T00:00:00",
          "2023-01-05T00:00:00",
          "2023-01-06T00:00:00",
          "2023-01-09T00:00:00",
          "2023-01-10T00:00:00",
          "2023-01-11T00:00:00",
          "2023-01-12T00:00:00",
          "2023-01-13T00:00:00",
          "2023-01-16T00:00:00",
          "2023-01-17T00:00:00",
          "2023-01-19T00:00:00",
          "2023-01-20T00:00:00",
          "2023-01-23T00:00:00",
          "2023-01-24T00:00:00",
          "2023-01-25T00:00:00",
          "2023-01-26T00:00:00"
         ],
         "xaxis": "x2",
         "y": [
          7,
          4,
          4,
          2,
          5,
          3,
          2,
          1,
          1,
          2,
          1,
          6,
          4,
          9,
          5,
          2,
          2
         ],
         "yaxis": "y2"
        },
        {
         "alignmentgroup": "True",
         "hovertemplate": "Strip=Apr23<br>Product=Platts Cash BFOE<br>Day=%{x}<br>Trade Count=%{y}<extra></extra>",
         "legendgroup": "Apr23",
         "marker": {
          "color": "#EF553B",
          "pattern": {
           "shape": ""
          }
         },
         "name": "Apr23",
         "offsetgroup": "Apr23",
         "orientation": "v",
         "showlegend": true,
         "textposition": "auto",
         "type": "bar",
         "x": [
          "2023-01-09T00:00:00",
          "2023-01-10T00:00:00",
          "2023-01-11T00:00:00",
          "2023-01-18T00:00:00",
          "2023-01-19T00:00:00",
          "2023-01-20T00:00:00",
          "2023-01-23T00:00:00",
          "2023-01-24T00:00:00",
          "2023-01-30T00:00:00",
          "2023-01-31T00:00:00",
          "2023-02-01T00:00:00",
          "2023-02-02T00:00:00",
          "2023-02-03T00:00:00",
          "2023-02-06T00:00:00",
          "2023-02-07T00:00:00",
          "2023-02-08T00:00:00",
          "2023-02-09T00:00:00",
          "2023-02-10T00:00:00",
          "2023-02-13T00:00:00",
          "2023-02-14T00:00:00",
          "2023-02-15T00:00:00",
          "2023-02-16T00:00:00",
          "2023-02-17T00:00:00",
          "2023-02-20T00:00:00",
          "2023-02-21T00:00:00",
          "2023-02-24T00:00:00"
         ],
         "xaxis": "x2",
         "y": [
          1,
          1,
          1,
          2,
          6,
          5,
          4,
          2,
          8,
          5,
          6,
          4,
          6,
          4,
          12,
          9,
          1,
          3,
          3,
          4,
          3,
          5,
          2,
          2,
          1,
          2
         ],
         "yaxis": "y2"
        },
        {
         "alignmentgroup": "True",
         "hovertemplate": "Strip=Mar23/Apr23<br>Product=Platts Cash BFOE Spread<br>Day=%{x}<br>Trade Count=%{y}<extra></extra>",
         "legendgroup": "Mar23/Apr23",
         "marker": {
          "color": "#00cc96",
          "pattern": {
           "shape": ""
          }
         },
         "name": "Mar23/Apr23",
         "offsetgroup": "Mar23/Apr23",
         "orientation": "v",
         "showlegend": true,
         "textposition": "auto",
         "type": "bar",
         "x": [
          "2023-01-19T00:00:00",
          "2023-01-20T00:00:00",
          "2023-01-23T00:00:00",
          "2023-01-24T00:00:00"
         ],
         "xaxis": "x",
         "y": [
          5,
          4,
          4,
          2
         ],
         "yaxis": "y"
        },
        {
         "alignmentgroup": "True",
         "hovertemplate": "Strip=Jun23<br>Product=Platts Cash BFOE<br>Day=%{x}<br>Trade Count=%{y}<extra></extra>",
         "legendgroup": "Jun23",
         "marker": {
          "color": "#ab63fa",
          "pattern": {
           "shape": ""
          }
         },
         "name": "Jun23",
         "offsetgroup": "Jun23",
         "orientation": "v",
         "showlegend": true,
         "textposition": "auto",
         "type": "bar",
         "x": [
          "2023-02-02T00:00:00",
          "2023-03-22T00:00:00",
          "2023-03-23T00:00:00",
          "2023-03-27T00:00:00",
          "2023-03-28T00:00:00",
          "2023-03-29T00:00:00",
          "2023-03-30T00:00:00",
          "2023-03-31T00:00:00"
         ],
         "xaxis": "x2",
         "y": [
          1,
          2,
          2,
          2,
          6,
          5,
          10,
          3
         ],
         "yaxis": "y2"
        },
        {
         "alignmentgroup": "True",
         "hovertemplate": "Strip=May23<br>Product=Platts Cash BFOE<br>Day=%{x}<br>Trade Count=%{y}<extra></extra>",
         "legendgroup": "May23",
         "marker": {
          "color": "#FFA15A",
          "pattern": {
           "shape": ""
          }
         },
         "name": "May23",
         "offsetgroup": "May23",
         "orientation": "v",
         "showlegend": true,
         "textposition": "auto",
         "type": "bar",
         "x": [
          "2023-02-16T00:00:00",
          "2023-02-17T00:00:00",
          "2023-02-20T00:00:00",
          "2023-02-21T00:00:00",
          "2023-02-22T00:00:00",
          "2023-02-23T00:00:00",
          "2023-02-24T00:00:00",
          "2023-02-27T00:00:00",
          "2023-03-01T00:00:00",
          "2023-03-02T00:00:00",
          "2023-03-03T00:00:00",
          "2023-03-06T00:00:00",
          "2023-03-07T00:00:00",
          "2023-03-08T00:00:00",
          "2023-03-09T00:00:00",
          "2023-03-10T00:00:00",
          "2023-03-13T00:00:00",
          "2023-03-14T00:00:00",
          "2023-03-15T00:00:00",
          "2023-03-16T00:00:00",
          "2023-03-17T00:00:00",
          "2023-03-20T00:00:00",
          "2023-03-21T00:00:00",
          "2023-03-22T00:00:00",
          "2023-03-23T00:00:00",
          "2023-03-28T00:00:00"
         ],
         "xaxis": "x2",
         "y": [
          3,
          3,
          15,
          4,
          5,
          6,
          4,
          6,
          3,
          7,
          5,
          6,
          2,
          3,
          3,
          2,
          3,
          4,
          1,
          2,
          3,
          4,
          3,
          2,
          2,
          2
         ],
         "yaxis": "y2"
        },
        {
         "alignmentgroup": "True",
         "hovertemplate": "Strip=Apr23/May23<br>Product=Platts Cash BFOE Spread<br>Day=%{x}<br>Trade Count=%{y}<extra></extra>",
         "legendgroup": "Apr23/May23",
         "marker": {
          "color": "#19d3f3",
          "pattern": {
           "shape": ""
          }
         },
         "name": "Apr23/May23",
         "offsetgroup": "Apr23/May23",
         "orientation": "v",
         "showlegend": true,
         "textposition": "auto",
         "type": "bar",
         "x": [
          "2023-02-20T00:00:00",
          "2023-02-21T00:00:00",
          "2023-02-24T00:00:00"
         ],
         "xaxis": "x",
         "y": [
          2,
          1,
          1
         ],
         "yaxis": "y"
        }
       ],
       "layout": {
        "annotations": [
         {
          "font": {},
          "showarrow": false,
          "text": "Platts Cash BFOE Spread",
          "x": 0.5,
          "xanchor": "center",
          "xref": "paper",
          "y": 0.46499999999999997,
          "yanchor": "bottom",
          "yref": "paper"
         },
         {
          "font": {},
          "showarrow": false,
          "text": "Platts Cash BFOE",
          "x": 0.5,
          "xanchor": "center",
          "xref": "paper",
          "y": 0.9999999999999999,
          "yanchor": "bottom",
          "yref": "paper"
         }
        ],
        "barmode": "relative",
        "height": 480,
        "legend": {
         "title": {
          "text": "Strip"
         },
         "tracegroupgap": 0
        },
        "margin": {
         "t": 60
        },
        "template": {
         "data": {
          "bar": [
           {
            "error_x": {
             "color": "#f2f5fa"
            },
            "error_y": {
             "color": "#f2f5fa"
            },
            "marker": {
             "line": {
              "color": "rgb(17,17,17)",
              "width": 0.5
             },
             "pattern": {
              "fillmode": "overlay",
              "size": 10,
              "solidity": 0.2
             }
            },
            "type": "bar"
           }
          ],
          "barpolar": [
           {
            "marker": {
             "line": {
              "color": "rgb(17,17,17)",
              "width": 0.5
             },
             "pattern": {
              "fillmode": "overlay",
              "size": 10,
              "solidity": 0.2
             }
            },
            "type": "barpolar"
           }
          ],
          "carpet": [
           {
            "aaxis": {
             "endlinecolor": "#A2B1C6",
             "gridcolor": "#506784",
             "linecolor": "#506784",
             "minorgridcolor": "#506784",
             "startlinecolor": "#A2B1C6"
            },
            "baxis": {
             "endlinecolor": "#A2B1C6",
             "gridcolor": "#506784",
             "linecolor": "#506784",
             "minorgridcolor": "#506784",
             "startlinecolor": "#A2B1C6"
            },
            "type": "carpet"
           }
          ],
          "choropleth": [
           {
            "colorbar": {
             "outlinewidth": 0,
             "ticks": ""
            },
            "type": "choropleth"
           }
          ],
          "contour": [
           {
            "colorbar": {
             "outlinewidth": 0,
             "ticks": ""
            },
            "colorscale": [
             [
              0,
              "#0d0887"
             ],
             [
              0.1111111111111111,
              "#46039f"
             ],
             [
              0.2222222222222222,
              "#7201a8"
             ],
             [
              0.3333333333333333,
              "#9c179e"
             ],
             [
              0.4444444444444444,
              "#bd3786"
             ],
             [
              0.5555555555555556,
              "#d8576b"
             ],
             [
              0.6666666666666666,
              "#ed7953"
             ],
             [
              0.7777777777777778,
              "#fb9f3a"
             ],
             [
              0.8888888888888888,
              "#fdca26"
             ],
             [
              1,
              "#f0f921"
             ]
            ],
            "type": "contour"
           }
          ],
          "contourcarpet": [
           {
            "colorbar": {
             "outlinewidth": 0,
             "ticks": ""
            },
            "type": "contourcarpet"
           }
          ],
          "heatmap": [
           {
            "colorbar": {
             "outlinewidth": 0,
             "ticks": ""
            },
            "colorscale": [
             [
              0,
              "#0d0887"
             ],
             [
              0.1111111111111111,
              "#46039f"
             ],
             [
              0.2222222222222222,
              "#7201a8"
             ],
             [
              0.3333333333333333,
              "#9c179e"
             ],
             [
              0.4444444444444444,
              "#bd3786"
             ],
             [
              0.5555555555555556,
              "#d8576b"
             ],
             [
              0.6666666666666666,
              "#ed7953"
             ],
             [
              0.7777777777777778,
              "#fb9f3a"
             ],
             [
              0.8888888888888888,
              "#fdca26"
             ],
             [
              1,
              "#f0f921"
             ]
            ],
            "type": "heatmap"
           }
          ],
          "heatmapgl": [
           {
            "colorbar": {
             "outlinewidth": 0,
             "ticks": ""
            },
            "colorscale": [
             [
              0,
              "#0d0887"
             ],
             [
              0.1111111111111111,
              "#46039f"
             ],
             [
              0.2222222222222222,
              "#7201a8"
             ],
             [
              0.3333333333333333,
              "#9c179e"
             ],
             [
              0.4444444444444444,
              "#bd3786"
             ],
             [
              0.5555555555555556,
              "#d8576b"
             ],
             [
              0.6666666666666666,
              "#ed7953"
             ],
             [
              0.7777777777777778,
              "#fb9f3a"
             ],
             [
              0.8888888888888888,
              "#fdca26"
             ],
             [
              1,
              "#f0f921"
             ]
            ],
            "type": "heatmapgl"
           }
          ],
          "histogram": [
           {
            "marker": {
             "pattern": {
              "fillmode": "overlay",
              "size": 10,
              "solidity": 0.2
             }
            },
            "type": "histogram"
           }
          ],
          "histogram2d": [
           {
            "colorbar": {
             "outlinewidth": 0,
             "ticks": ""
            },
            "colorscale": [
             [
              0,
              "#0d0887"
             ],
             [
              0.1111111111111111,
              "#46039f"
             ],
             [
              0.2222222222222222,
              "#7201a8"
             ],
             [
              0.3333333333333333,
              "#9c179e"
             ],
             [
              0.4444444444444444,
              "#bd3786"
             ],
             [
              0.5555555555555556,
              "#d8576b"
             ],
             [
              0.6666666666666666,
              "#ed7953"
             ],
             [
              0.7777777777777778,
              "#fb9f3a"
             ],
             [
              0.8888888888888888,
              "#fdca26"
             ],
             [
              1,
              "#f0f921"
             ]
            ],
            "type": "histogram2d"
           }
          ],
          "histogram2dcontour": [
           {
            "colorbar": {
             "outlinewidth": 0,
             "ticks": ""
            },
            "colorscale": [
             [
              0,
              "#0d0887"
             ],
             [
              0.1111111111111111,
              "#46039f"
             ],
             [
              0.2222222222222222,
              "#7201a8"
             ],
             [
              0.3333333333333333,
              "#9c179e"
             ],
             [
              0.4444444444444444,
              "#bd3786"
             ],
             [
              0.5555555555555556,
              "#d8576b"
             ],
             [
              0.6666666666666666,
              "#ed7953"
             ],
             [
              0.7777777777777778,
              "#fb9f3a"
             ],
             [
              0.8888888888888888,
              "#fdca26"
             ],
             [
              1,
              "#f0f921"
             ]
            ],
            "type": "histogram2dcontour"
           }
          ],
          "mesh3d": [
           {
            "colorbar": {
             "outlinewidth": 0,
             "ticks": ""
            },
            "type": "mesh3d"
           }
          ],
          "parcoords": [
           {
            "line": {
             "colorbar": {
              "outlinewidth": 0,
              "ticks": ""
             }
            },
            "type": "parcoords"
           }
          ],
          "pie": [
           {
            "automargin": true,
            "type": "pie"
           }
          ],
          "scatter": [
           {
            "marker": {
             "line": {
              "color": "#283442"
             }
            },
            "type": "scatter"
           }
          ],
          "scatter3d": [
           {
            "line": {
             "colorbar": {
              "outlinewidth": 0,
              "ticks": ""
             }
            },
            "marker": {
             "colorbar": {
              "outlinewidth": 0,
              "ticks": ""
             }
            },
            "type": "scatter3d"
           }
          ],
          "scattercarpet": [
           {
            "marker": {
             "colorbar": {
              "outlinewidth": 0,
              "ticks": ""
             }
            },
            "type": "scattercarpet"
           }
          ],
          "scattergeo": [
           {
            "marker": {
             "colorbar": {
              "outlinewidth": 0,
              "ticks": ""
             }
            },
            "type": "scattergeo"
           }
          ],
          "scattergl": [
           {
            "marker": {
             "line": {
              "color": "#283442"
             }
            },
            "type": "scattergl"
           }
          ],
          "scattermapbox": [
           {
            "marker": {
             "colorbar": {
              "outlinewidth": 0,
              "ticks": ""
             }
            },
            "type": "scattermapbox"
           }
          ],
          "scatterpolar": [
           {
            "marker": {
             "colorbar": {
              "outlinewidth": 0,
              "ticks": ""
             }
            },
            "type": "scatterpolar"
           }
          ],
          "scatterpolargl": [
           {
            "marker": {
             "colorbar": {
              "outlinewidth": 0,
              "ticks": ""
             }
            },
            "type": "scatterpolargl"
           }
          ],
          "scatterternary": [
           {
            "marker": {
             "colorbar": {
              "outlinewidth": 0,
              "ticks": ""
             }
            },
            "type": "scatterternary"
           }
          ],
          "surface": [
           {
            "colorbar": {
             "outlinewidth": 0,
             "ticks": ""
            },
            "colorscale": [
             [
              0,
              "#0d0887"
             ],
             [
              0.1111111111111111,
              "#46039f"
             ],
             [
              0.2222222222222222,
              "#7201a8"
             ],
             [
              0.3333333333333333,
              "#9c179e"
             ],
             [
              0.4444444444444444,
              "#bd3786"
             ],
             [
              0.5555555555555556,
              "#d8576b"
             ],
             [
              0.6666666666666666,
              "#ed7953"
             ],
             [
              0.7777777777777778,
              "#fb9f3a"
             ],
             [
              0.8888888888888888,
              "#fdca26"
             ],
             [
              1,
              "#f0f921"
             ]
            ],
            "type": "surface"
           }
          ],
          "table": [
           {
            "cells": {
             "fill": {
              "color": "#506784"
             },
             "line": {
              "color": "rgb(17,17,17)"
             }
            },
            "header": {
             "fill": {
              "color": "#2a3f5f"
             },
             "line": {
              "color": "rgb(17,17,17)"
             }
            },
            "type": "table"
           }
          ]
         },
         "layout": {
          "annotationdefaults": {
           "arrowcolor": "#f2f5fa",
           "arrowhead": 0,
           "arrowwidth": 1
          },
          "autotypenumbers": "strict",
          "coloraxis": {
           "colorbar": {
            "outlinewidth": 0,
            "ticks": ""
           }
          },
          "colorscale": {
           "diverging": [
            [
             0,
             "#8e0152"
            ],
            [
             0.1,
             "#c51b7d"
            ],
            [
             0.2,
             "#de77ae"
            ],
            [
             0.3,
             "#f1b6da"
            ],
            [
             0.4,
             "#fde0ef"
            ],
            [
             0.5,
             "#f7f7f7"
            ],
            [
             0.6,
             "#e6f5d0"
            ],
            [
             0.7,
             "#b8e186"
            ],
            [
             0.8,
             "#7fbc41"
            ],
            [
             0.9,
             "#4d9221"
            ],
            [
             1,
             "#276419"
            ]
           ],
           "sequential": [
            [
             0,
             "#0d0887"
            ],
            [
             0.1111111111111111,
             "#46039f"
            ],
            [
             0.2222222222222222,
             "#7201a8"
            ],
            [
             0.3333333333333333,
             "#9c179e"
            ],
            [
             0.4444444444444444,
             "#bd3786"
            ],
            [
             0.5555555555555556,
             "#d8576b"
            ],
            [
             0.6666666666666666,
             "#ed7953"
            ],
            [
             0.7777777777777778,
             "#fb9f3a"
            ],
            [
             0.8888888888888888,
             "#fdca26"
            ],
            [
             1,
             "#f0f921"
            ]
           ],
           "sequentialminus": [
            [
             0,
             "#0d0887"
            ],
            [
             0.1111111111111111,
             "#46039f"
            ],
            [
             0.2222222222222222,
             "#7201a8"
            ],
            [
             0.3333333333333333,
             "#9c179e"
            ],
            [
             0.4444444444444444,
             "#bd3786"
            ],
            [
             0.5555555555555556,
             "#d8576b"
            ],
            [
             0.6666666666666666,
             "#ed7953"
            ],
            [
             0.7777777777777778,
             "#fb9f3a"
            ],
            [
             0.8888888888888888,
             "#fdca26"
            ],
            [
             1,
             "#f0f921"
            ]
           ]
          },
          "colorway": [
           "#636efa",
           "#EF553B",
           "#00cc96",
           "#ab63fa",
           "#FFA15A",
           "#19d3f3",
           "#FF6692",
           "#B6E880",
           "#FF97FF",
           "#FECB52"
          ],
          "font": {
           "color": "#f2f5fa"
          },
          "geo": {
           "bgcolor": "rgb(17,17,17)",
           "lakecolor": "rgb(17,17,17)",
           "landcolor": "rgb(17,17,17)",
           "showlakes": true,
           "showland": true,
           "subunitcolor": "#506784"
          },
          "hoverlabel": {
           "align": "left"
          },
          "hovermode": "closest",
          "mapbox": {
           "style": "dark"
          },
          "paper_bgcolor": "rgb(17,17,17)",
          "plot_bgcolor": "rgb(17,17,17)",
          "polar": {
           "angularaxis": {
            "gridcolor": "#506784",
            "linecolor": "#506784",
            "ticks": ""
           },
           "bgcolor": "rgb(17,17,17)",
           "radialaxis": {
            "gridcolor": "#506784",
            "linecolor": "#506784",
            "ticks": ""
           }
          },
          "scene": {
           "xaxis": {
            "backgroundcolor": "rgb(17,17,17)",
            "gridcolor": "#506784",
            "gridwidth": 2,
            "linecolor": "#506784",
            "showbackground": true,
            "ticks": "",
            "zerolinecolor": "#C8D4E3"
           },
           "yaxis": {
            "backgroundcolor": "rgb(17,17,17)",
            "gridcolor": "#506784",
            "gridwidth": 2,
            "linecolor": "#506784",
            "showbackground": true,
            "ticks": "",
            "zerolinecolor": "#C8D4E3"
           },
           "zaxis": {
            "backgroundcolor": "rgb(17,17,17)",
            "gridcolor": "#506784",
            "gridwidth": 2,
            "linecolor": "#506784",
            "showbackground": true,
            "ticks": "",
            "zerolinecolor": "#C8D4E3"
           }
          },
          "shapedefaults": {
           "line": {
            "color": "#f2f5fa"
           }
          },
          "sliderdefaults": {
           "bgcolor": "#C8D4E3",
           "bordercolor": "rgb(17,17,17)",
           "borderwidth": 1,
           "tickwidth": 0
          },
          "ternary": {
           "aaxis": {
            "gridcolor": "#506784",
            "linecolor": "#506784",
            "ticks": ""
           },
           "baxis": {
            "gridcolor": "#506784",
            "linecolor": "#506784",
            "ticks": ""
           },
           "bgcolor": "rgb(17,17,17)",
           "caxis": {
            "gridcolor": "#506784",
            "linecolor": "#506784",
            "ticks": ""
           }
          },
          "title": {
           "x": 0.05
          },
          "updatemenudefaults": {
           "bgcolor": "#506784",
           "borderwidth": 0
          },
          "xaxis": {
           "automargin": true,
           "gridcolor": "#283442",
           "linecolor": "#506784",
           "ticks": "",
           "title": {
            "standoff": 15
           },
           "zerolinecolor": "#283442",
           "zerolinewidth": 2
          },
          "yaxis": {
           "automargin": true,
           "gridcolor": "#283442",
           "linecolor": "#506784",
           "ticks": "",
           "title": {
            "standoff": 15
           },
           "zerolinecolor": "#283442",
           "zerolinewidth": 2
          }
         }
        },
        "title": {
         "text": "eWindow Market Data - Trades by Date"
        },
        "xaxis": {
         "anchor": "y",
         "domain": [
          0,
          1
         ],
         "matches": "x",
         "range": [
          "2023-01-01",
          "2023-03-31"
         ],
         "rangebreaks": [
          {
           "bounds": [
            6,
            1
           ],
           "pattern": "day of week"
          }
         ],
         "title": {
          "text": "Day"
         }
        },
        "xaxis2": {
         "anchor": "y2",
         "domain": [
          0,
          1
         ],
         "matches": "x",
         "range": [
          "2023-01-01",
          "2023-03-31"
         ],
         "rangebreaks": [
          {
           "bounds": [
            6,
            1
           ],
           "pattern": "day of week"
          }
         ],
         "showticklabels": false
        },
        "yaxis": {
         "anchor": "x",
         "domain": [
          0,
          0.46499999999999997
         ],
         "title": {
          "text": "Trade Count"
         }
        },
        "yaxis2": {
         "anchor": "x2",
         "domain": [
          0.5349999999999999,
          0.9999999999999999
         ],
         "title": {
          "text": "Trade Count"
         }
        }
       }
      },
      "text/html": [
       "<div>                            <div id=\"77f60ba9-ff2d-4bc1-9e24-261012038430\" class=\"plotly-graph-div\" style=\"height:480px; width:100%;\"></div>            <script type=\"text/javascript\">                require([\"plotly\"], function(Plotly) {                    window.PLOTLYENV=window.PLOTLYENV || {};                                    if (document.getElementById(\"77f60ba9-ff2d-4bc1-9e24-261012038430\")) {                    Plotly.newPlot(                        \"77f60ba9-ff2d-4bc1-9e24-261012038430\",                        [{\"alignmentgroup\":\"True\",\"hovertemplate\":\"Strip=Mar23<br>Product=Platts Cash BFOE<br>Day=%{x}<br>Trade Count=%{y}<extra></extra>\",\"legendgroup\":\"Mar23\",\"marker\":{\"color\":\"#636efa\",\"pattern\":{\"shape\":\"\"}},\"name\":\"Mar23\",\"offsetgroup\":\"Mar23\",\"orientation\":\"v\",\"showlegend\":true,\"textposition\":\"auto\",\"x\":[\"2023-01-03T00:00:00\",\"2023-01-04T00:00:00\",\"2023-01-05T00:00:00\",\"2023-01-06T00:00:00\",\"2023-01-09T00:00:00\",\"2023-01-10T00:00:00\",\"2023-01-11T00:00:00\",\"2023-01-12T00:00:00\",\"2023-01-13T00:00:00\",\"2023-01-16T00:00:00\",\"2023-01-17T00:00:00\",\"2023-01-19T00:00:00\",\"2023-01-20T00:00:00\",\"2023-01-23T00:00:00\",\"2023-01-24T00:00:00\",\"2023-01-25T00:00:00\",\"2023-01-26T00:00:00\"],\"xaxis\":\"x2\",\"y\":[7,4,4,2,5,3,2,1,1,2,1,6,4,9,5,2,2],\"yaxis\":\"y2\",\"type\":\"bar\"},{\"alignmentgroup\":\"True\",\"hovertemplate\":\"Strip=Apr23<br>Product=Platts Cash BFOE<br>Day=%{x}<br>Trade Count=%{y}<extra></extra>\",\"legendgroup\":\"Apr23\",\"marker\":{\"color\":\"#EF553B\",\"pattern\":{\"shape\":\"\"}},\"name\":\"Apr23\",\"offsetgroup\":\"Apr23\",\"orientation\":\"v\",\"showlegend\":true,\"textposition\":\"auto\",\"x\":[\"2023-01-09T00:00:00\",\"2023-01-10T00:00:00\",\"2023-01-11T00:00:00\",\"2023-01-18T00:00:00\",\"2023-01-19T00:00:00\",\"2023-01-20T00:00:00\",\"2023-01-23T00:00:00\",\"2023-01-24T00:00:00\",\"2023-01-30T00:00:00\",\"2023-01-31T00:00:00\",\"2023-02-01T00:00:00\",\"2023-02-02T00:00:00\",\"2023-02-03T00:00:00\",\"2023-02-06T00:00:00\",\"2023-02-07T00:00:00\",\"2023-02-08T00:00:00\",\"2023-02-09T00:00:00\",\"2023-02-10T00:00:00\",\"2023-02-13T00:00:00\",\"2023-02-14T00:00:00\",\"2023-02-15T00:00:00\",\"2023-02-16T00:00:00\",\"2023-02-17T00:00:00\",\"2023-02-20T00:00:00\",\"2023-02-21T00:00:00\",\"2023-02-24T00:00:00\"],\"xaxis\":\"x2\",\"y\":[1,1,1,2,6,5,4,2,8,5,6,4,6,4,12,9,1,3,3,4,3,5,2,2,1,2],\"yaxis\":\"y2\",\"type\":\"bar\"},{\"alignmentgroup\":\"True\",\"hovertemplate\":\"Strip=Mar23/Apr23<br>Product=Platts Cash BFOE Spread<br>Day=%{x}<br>Trade Count=%{y}<extra></extra>\",\"legendgroup\":\"Mar23/Apr23\",\"marker\":{\"color\":\"#00cc96\",\"pattern\":{\"shape\":\"\"}},\"name\":\"Mar23/Apr23\",\"offsetgroup\":\"Mar23/Apr23\",\"orientation\":\"v\",\"showlegend\":true,\"textposition\":\"auto\",\"x\":[\"2023-01-19T00:00:00\",\"2023-01-20T00:00:00\",\"2023-01-23T00:00:00\",\"2023-01-24T00:00:00\"],\"xaxis\":\"x\",\"y\":[5,4,4,2],\"yaxis\":\"y\",\"type\":\"bar\"},{\"alignmentgroup\":\"True\",\"hovertemplate\":\"Strip=Jun23<br>Product=Platts Cash BFOE<br>Day=%{x}<br>Trade Count=%{y}<extra></extra>\",\"legendgroup\":\"Jun23\",\"marker\":{\"color\":\"#ab63fa\",\"pattern\":{\"shape\":\"\"}},\"name\":\"Jun23\",\"offsetgroup\":\"Jun23\",\"orientation\":\"v\",\"showlegend\":true,\"textposition\":\"auto\",\"x\":[\"2023-02-02T00:00:00\",\"2023-03-22T00:00:00\",\"2023-03-23T00:00:00\",\"2023-03-27T00:00:00\",\"2023-03-28T00:00:00\",\"2023-03-29T00:00:00\",\"2023-03-30T00:00:00\",\"2023-03-31T00:00:00\"],\"xaxis\":\"x2\",\"y\":[1,2,2,2,6,5,10,3],\"yaxis\":\"y2\",\"type\":\"bar\"},{\"alignmentgroup\":\"True\",\"hovertemplate\":\"Strip=May23<br>Product=Platts Cash BFOE<br>Day=%{x}<br>Trade Count=%{y}<extra></extra>\",\"legendgroup\":\"May23\",\"marker\":{\"color\":\"#FFA15A\",\"pattern\":{\"shape\":\"\"}},\"name\":\"May23\",\"offsetgroup\":\"May23\",\"orientation\":\"v\",\"showlegend\":true,\"textposition\":\"auto\",\"x\":[\"2023-02-16T00:00:00\",\"2023-02-17T00:00:00\",\"2023-02-20T00:00:00\",\"2023-02-21T00:00:00\",\"2023-02-22T00:00:00\",\"2023-02-23T00:00:00\",\"2023-02-24T00:00:00\",\"2023-02-27T00:00:00\",\"2023-03-01T00:00:00\",\"2023-03-02T00:00:00\",\"2023-03-03T00:00:00\",\"2023-03-06T00:00:00\",\"2023-03-07T00:00:00\",\"2023-03-08T00:00:00\",\"2023-03-09T00:00:00\",\"2023-03-10T00:00:00\",\"2023-03-13T00:00:00\",\"2023-03-14T00:00:00\",\"2023-03-15T00:00:00\",\"2023-03-16T00:00:00\",\"2023-03-17T00:00:00\",\"2023-03-20T00:00:00\",\"2023-03-21T00:00:00\",\"2023-03-22T00:00:00\",\"2023-03-23T00:00:00\",\"2023-03-28T00:00:00\"],\"xaxis\":\"x2\",\"y\":[3,3,15,4,5,6,4,6,3,7,5,6,2,3,3,2,3,4,1,2,3,4,3,2,2,2],\"yaxis\":\"y2\",\"type\":\"bar\"},{\"alignmentgroup\":\"True\",\"hovertemplate\":\"Strip=Apr23/May23<br>Product=Platts Cash BFOE Spread<br>Day=%{x}<br>Trade Count=%{y}<extra></extra>\",\"legendgroup\":\"Apr23/May23\",\"marker\":{\"color\":\"#19d3f3\",\"pattern\":{\"shape\":\"\"}},\"name\":\"Apr23/May23\",\"offsetgroup\":\"Apr23/May23\",\"orientation\":\"v\",\"showlegend\":true,\"textposition\":\"auto\",\"x\":[\"2023-02-20T00:00:00\",\"2023-02-21T00:00:00\",\"2023-02-24T00:00:00\"],\"xaxis\":\"x\",\"y\":[2,1,1],\"yaxis\":\"y\",\"type\":\"bar\"}],                        {\"template\":{\"data\":{\"histogram2dcontour\":[{\"type\":\"histogram2dcontour\",\"colorbar\":{\"outlinewidth\":0,\"ticks\":\"\"},\"colorscale\":[[0.0,\"#0d0887\"],[0.1111111111111111,\"#46039f\"],[0.2222222222222222,\"#7201a8\"],[0.3333333333333333,\"#9c179e\"],[0.4444444444444444,\"#bd3786\"],[0.5555555555555556,\"#d8576b\"],[0.6666666666666666,\"#ed7953\"],[0.7777777777777778,\"#fb9f3a\"],[0.8888888888888888,\"#fdca26\"],[1.0,\"#f0f921\"]]}],\"choropleth\":[{\"type\":\"choropleth\",\"colorbar\":{\"outlinewidth\":0,\"ticks\":\"\"}}],\"histogram2d\":[{\"type\":\"histogram2d\",\"colorbar\":{\"outlinewidth\":0,\"ticks\":\"\"},\"colorscale\":[[0.0,\"#0d0887\"],[0.1111111111111111,\"#46039f\"],[0.2222222222222222,\"#7201a8\"],[0.3333333333333333,\"#9c179e\"],[0.4444444444444444,\"#bd3786\"],[0.5555555555555556,\"#d8576b\"],[0.6666666666666666,\"#ed7953\"],[0.7777777777777778,\"#fb9f3a\"],[0.8888888888888888,\"#fdca26\"],[1.0,\"#f0f921\"]]}],\"heatmap\":[{\"type\":\"heatmap\",\"colorbar\":{\"outlinewidth\":0,\"ticks\":\"\"},\"colorscale\":[[0.0,\"#0d0887\"],[0.1111111111111111,\"#46039f\"],[0.2222222222222222,\"#7201a8\"],[0.3333333333333333,\"#9c179e\"],[0.4444444444444444,\"#bd3786\"],[0.5555555555555556,\"#d8576b\"],[0.6666666666666666,\"#ed7953\"],[0.7777777777777778,\"#fb9f3a\"],[0.8888888888888888,\"#fdca26\"],[1.0,\"#f0f921\"]]}],\"heatmapgl\":[{\"type\":\"heatmapgl\",\"colorbar\":{\"outlinewidth\":0,\"ticks\":\"\"},\"colorscale\":[[0.0,\"#0d0887\"],[0.1111111111111111,\"#46039f\"],[0.2222222222222222,\"#7201a8\"],[0.3333333333333333,\"#9c179e\"],[0.4444444444444444,\"#bd3786\"],[0.5555555555555556,\"#d8576b\"],[0.6666666666666666,\"#ed7953\"],[0.7777777777777778,\"#fb9f3a\"],[0.8888888888888888,\"#fdca26\"],[1.0,\"#f0f921\"]]}],\"contourcarpet\":[{\"type\":\"contourcarpet\",\"colorbar\":{\"outlinewidth\":0,\"ticks\":\"\"}}],\"contour\":[{\"type\":\"contour\",\"colorbar\":{\"outlinewidth\":0,\"ticks\":\"\"},\"colorscale\":[[0.0,\"#0d0887\"],[0.1111111111111111,\"#46039f\"],[0.2222222222222222,\"#7201a8\"],[0.3333333333333333,\"#9c179e\"],[0.4444444444444444,\"#bd3786\"],[0.5555555555555556,\"#d8576b\"],[0.6666666666666666,\"#ed7953\"],[0.7777777777777778,\"#fb9f3a\"],[0.8888888888888888,\"#fdca26\"],[1.0,\"#f0f921\"]]}],\"surface\":[{\"type\":\"surface\",\"colorbar\":{\"outlinewidth\":0,\"ticks\":\"\"},\"colorscale\":[[0.0,\"#0d0887\"],[0.1111111111111111,\"#46039f\"],[0.2222222222222222,\"#7201a8\"],[0.3333333333333333,\"#9c179e\"],[0.4444444444444444,\"#bd3786\"],[0.5555555555555556,\"#d8576b\"],[0.6666666666666666,\"#ed7953\"],[0.7777777777777778,\"#fb9f3a\"],[0.8888888888888888,\"#fdca26\"],[1.0,\"#f0f921\"]]}],\"mesh3d\":[{\"type\":\"mesh3d\",\"colorbar\":{\"outlinewidth\":0,\"ticks\":\"\"}}],\"scatter\":[{\"marker\":{\"line\":{\"color\":\"#283442\"}},\"type\":\"scatter\"}],\"parcoords\":[{\"type\":\"parcoords\",\"line\":{\"colorbar\":{\"outlinewidth\":0,\"ticks\":\"\"}}}],\"scatterpolargl\":[{\"type\":\"scatterpolargl\",\"marker\":{\"colorbar\":{\"outlinewidth\":0,\"ticks\":\"\"}}}],\"bar\":[{\"error_x\":{\"color\":\"#f2f5fa\"},\"error_y\":{\"color\":\"#f2f5fa\"},\"marker\":{\"line\":{\"color\":\"rgb(17,17,17)\",\"width\":0.5},\"pattern\":{\"fillmode\":\"overlay\",\"size\":10,\"solidity\":0.2}},\"type\":\"bar\"}],\"scattergeo\":[{\"type\":\"scattergeo\",\"marker\":{\"colorbar\":{\"outlinewidth\":0,\"ticks\":\"\"}}}],\"scatterpolar\":[{\"type\":\"scatterpolar\",\"marker\":{\"colorbar\":{\"outlinewidth\":0,\"ticks\":\"\"}}}],\"histogram\":[{\"marker\":{\"pattern\":{\"fillmode\":\"overlay\",\"size\":10,\"solidity\":0.2}},\"type\":\"histogram\"}],\"scattergl\":[{\"marker\":{\"line\":{\"color\":\"#283442\"}},\"type\":\"scattergl\"}],\"scatter3d\":[{\"type\":\"scatter3d\",\"line\":{\"colorbar\":{\"outlinewidth\":0,\"ticks\":\"\"}},\"marker\":{\"colorbar\":{\"outlinewidth\":0,\"ticks\":\"\"}}}],\"scattermapbox\":[{\"type\":\"scattermapbox\",\"marker\":{\"colorbar\":{\"outlinewidth\":0,\"ticks\":\"\"}}}],\"scatterternary\":[{\"type\":\"scatterternary\",\"marker\":{\"colorbar\":{\"outlinewidth\":0,\"ticks\":\"\"}}}],\"scattercarpet\":[{\"type\":\"scattercarpet\",\"marker\":{\"colorbar\":{\"outlinewidth\":0,\"ticks\":\"\"}}}],\"carpet\":[{\"aaxis\":{\"endlinecolor\":\"#A2B1C6\",\"gridcolor\":\"#506784\",\"linecolor\":\"#506784\",\"minorgridcolor\":\"#506784\",\"startlinecolor\":\"#A2B1C6\"},\"baxis\":{\"endlinecolor\":\"#A2B1C6\",\"gridcolor\":\"#506784\",\"linecolor\":\"#506784\",\"minorgridcolor\":\"#506784\",\"startlinecolor\":\"#A2B1C6\"},\"type\":\"carpet\"}],\"table\":[{\"cells\":{\"fill\":{\"color\":\"#506784\"},\"line\":{\"color\":\"rgb(17,17,17)\"}},\"header\":{\"fill\":{\"color\":\"#2a3f5f\"},\"line\":{\"color\":\"rgb(17,17,17)\"}},\"type\":\"table\"}],\"barpolar\":[{\"marker\":{\"line\":{\"color\":\"rgb(17,17,17)\",\"width\":0.5},\"pattern\":{\"fillmode\":\"overlay\",\"size\":10,\"solidity\":0.2}},\"type\":\"barpolar\"}],\"pie\":[{\"automargin\":true,\"type\":\"pie\"}]},\"layout\":{\"autotypenumbers\":\"strict\",\"colorway\":[\"#636efa\",\"#EF553B\",\"#00cc96\",\"#ab63fa\",\"#FFA15A\",\"#19d3f3\",\"#FF6692\",\"#B6E880\",\"#FF97FF\",\"#FECB52\"],\"font\":{\"color\":\"#f2f5fa\"},\"hovermode\":\"closest\",\"hoverlabel\":{\"align\":\"left\"},\"paper_bgcolor\":\"rgb(17,17,17)\",\"plot_bgcolor\":\"rgb(17,17,17)\",\"polar\":{\"bgcolor\":\"rgb(17,17,17)\",\"angularaxis\":{\"gridcolor\":\"#506784\",\"linecolor\":\"#506784\",\"ticks\":\"\"},\"radialaxis\":{\"gridcolor\":\"#506784\",\"linecolor\":\"#506784\",\"ticks\":\"\"}},\"ternary\":{\"bgcolor\":\"rgb(17,17,17)\",\"aaxis\":{\"gridcolor\":\"#506784\",\"linecolor\":\"#506784\",\"ticks\":\"\"},\"baxis\":{\"gridcolor\":\"#506784\",\"linecolor\":\"#506784\",\"ticks\":\"\"},\"caxis\":{\"gridcolor\":\"#506784\",\"linecolor\":\"#506784\",\"ticks\":\"\"}},\"coloraxis\":{\"colorbar\":{\"outlinewidth\":0,\"ticks\":\"\"}},\"colorscale\":{\"sequential\":[[0.0,\"#0d0887\"],[0.1111111111111111,\"#46039f\"],[0.2222222222222222,\"#7201a8\"],[0.3333333333333333,\"#9c179e\"],[0.4444444444444444,\"#bd3786\"],[0.5555555555555556,\"#d8576b\"],[0.6666666666666666,\"#ed7953\"],[0.7777777777777778,\"#fb9f3a\"],[0.8888888888888888,\"#fdca26\"],[1.0,\"#f0f921\"]],\"sequentialminus\":[[0.0,\"#0d0887\"],[0.1111111111111111,\"#46039f\"],[0.2222222222222222,\"#7201a8\"],[0.3333333333333333,\"#9c179e\"],[0.4444444444444444,\"#bd3786\"],[0.5555555555555556,\"#d8576b\"],[0.6666666666666666,\"#ed7953\"],[0.7777777777777778,\"#fb9f3a\"],[0.8888888888888888,\"#fdca26\"],[1.0,\"#f0f921\"]],\"diverging\":[[0,\"#8e0152\"],[0.1,\"#c51b7d\"],[0.2,\"#de77ae\"],[0.3,\"#f1b6da\"],[0.4,\"#fde0ef\"],[0.5,\"#f7f7f7\"],[0.6,\"#e6f5d0\"],[0.7,\"#b8e186\"],[0.8,\"#7fbc41\"],[0.9,\"#4d9221\"],[1,\"#276419\"]]},\"xaxis\":{\"gridcolor\":\"#283442\",\"linecolor\":\"#506784\",\"ticks\":\"\",\"title\":{\"standoff\":15},\"zerolinecolor\":\"#283442\",\"automargin\":true,\"zerolinewidth\":2},\"yaxis\":{\"gridcolor\":\"#283442\",\"linecolor\":\"#506784\",\"ticks\":\"\",\"title\":{\"standoff\":15},\"zerolinecolor\":\"#283442\",\"automargin\":true,\"zerolinewidth\":2},\"scene\":{\"xaxis\":{\"backgroundcolor\":\"rgb(17,17,17)\",\"gridcolor\":\"#506784\",\"linecolor\":\"#506784\",\"showbackground\":true,\"ticks\":\"\",\"zerolinecolor\":\"#C8D4E3\",\"gridwidth\":2},\"yaxis\":{\"backgroundcolor\":\"rgb(17,17,17)\",\"gridcolor\":\"#506784\",\"linecolor\":\"#506784\",\"showbackground\":true,\"ticks\":\"\",\"zerolinecolor\":\"#C8D4E3\",\"gridwidth\":2},\"zaxis\":{\"backgroundcolor\":\"rgb(17,17,17)\",\"gridcolor\":\"#506784\",\"linecolor\":\"#506784\",\"showbackground\":true,\"ticks\":\"\",\"zerolinecolor\":\"#C8D4E3\",\"gridwidth\":2}},\"shapedefaults\":{\"line\":{\"color\":\"#f2f5fa\"}},\"annotationdefaults\":{\"arrowcolor\":\"#f2f5fa\",\"arrowhead\":0,\"arrowwidth\":1},\"geo\":{\"bgcolor\":\"rgb(17,17,17)\",\"landcolor\":\"rgb(17,17,17)\",\"subunitcolor\":\"#506784\",\"showland\":true,\"showlakes\":true,\"lakecolor\":\"rgb(17,17,17)\"},\"title\":{\"x\":0.05},\"updatemenudefaults\":{\"bgcolor\":\"#506784\",\"borderwidth\":0},\"sliderdefaults\":{\"bgcolor\":\"#C8D4E3\",\"borderwidth\":1,\"bordercolor\":\"rgb(17,17,17)\",\"tickwidth\":0},\"mapbox\":{\"style\":\"dark\"}}},\"xaxis\":{\"anchor\":\"y\",\"domain\":[0.0,1.0],\"title\":{\"text\":\"Day\"},\"matches\":\"x\",\"rangebreaks\":[{\"bounds\":[6,1],\"pattern\":\"day of week\"}],\"range\":[\"2023-01-01\",\"2023-03-31\"]},\"yaxis\":{\"anchor\":\"x\",\"domain\":[0.0,0.46499999999999997],\"title\":{\"text\":\"Trade Count\"}},\"xaxis2\":{\"anchor\":\"y2\",\"domain\":[0.0,1.0],\"matches\":\"x\",\"showticklabels\":false,\"rangebreaks\":[{\"bounds\":[6,1],\"pattern\":\"day of week\"}],\"range\":[\"2023-01-01\",\"2023-03-31\"]},\"yaxis2\":{\"anchor\":\"x2\",\"domain\":[0.5349999999999999,0.9999999999999999],\"title\":{\"text\":\"Trade Count\"}},\"annotations\":[{\"font\":{},\"showarrow\":false,\"text\":\"Platts Cash BFOE Spread\",\"x\":0.5,\"xanchor\":\"center\",\"xref\":\"paper\",\"y\":0.46499999999999997,\"yanchor\":\"bottom\",\"yref\":\"paper\"},{\"font\":{},\"showarrow\":false,\"text\":\"Platts Cash BFOE\",\"x\":0.5,\"xanchor\":\"center\",\"xref\":\"paper\",\"y\":0.9999999999999999,\"yanchor\":\"bottom\",\"yref\":\"paper\"}],\"legend\":{\"title\":{\"text\":\"Strip\"},\"tracegroupgap\":0},\"margin\":{\"t\":60},\"barmode\":\"relative\",\"height\":480,\"title\":{\"text\":\"eWindow Market Data - Trades by Date\"}},                        {\"responsive\": true}                    ).then(function(){\n",
       "                            \n",
       "var gd = document.getElementById('77f60ba9-ff2d-4bc1-9e24-261012038430');\n",
       "var x = new MutationObserver(function (mutations, observer) {{\n",
       "        var display = window.getComputedStyle(gd).display;\n",
       "        if (!display || display === 'none') {{\n",
       "            console.log([gd, 'removed!']);\n",
       "            Plotly.purge(gd);\n",
       "            observer.disconnect();\n",
       "        }}\n",
       "}});\n",
       "\n",
       "// Listen for the removal of the full notebook cells\n",
       "var notebookContainer = gd.closest('#notebook-container');\n",
       "if (notebookContainer) {{\n",
       "    x.observe(notebookContainer, {childList: true});\n",
       "}}\n",
       "\n",
       "// Listen for the clearing of the current output cell\n",
       "var outputEl = gd.closest('.output');\n",
       "if (outputEl) {{\n",
       "    x.observe(outputEl, {childList: true});\n",
       "}}\n",
       "\n",
       "                        })                };                });            </script>        </div>"
      ]
     },
     "metadata": {},
     "output_type": "display_data"
    }
   ],
   "source": [
    "def create_plot(\n",
    "    df: pd.DataFrame,\n",
    "    date_lower: date,\n",
    "    date_upper: date,\n",
    "    values: Literal[\"price\", \"count\"] = \"price\",\n",
    ") -> go.Figure:\n",
    "    if values == \"price\":\n",
    "        fig = px.line(\n",
    "            df,\n",
    "            x=\"Day\",\n",
    "            y=\"Avg. Price\",\n",
    "            color=\"Strip\",\n",
    "            facet_col=\"Product\",\n",
    "            facet_col_wrap=1,\n",
    "        )\n",
    "    elif values == \"count\":\n",
    "        fig = px.bar(\n",
    "            df,\n",
    "            x=\"Day\",\n",
    "            y=\"Trade Count\",\n",
    "            color=\"Strip\",\n",
    "            facet_col=\"Product\",\n",
    "            facet_col_wrap=1,\n",
    "        )\n",
    "\n",
    "    fig.update_xaxes(\n",
    "        matches=\"x\",  # match x-axis across subplots, for easy comparison and brushing\n",
    "        rangebreaks=[{\"pattern\": \"day of week\", \"bounds\": [6, 1]}],  # remove weekends\n",
    "        range=[date_lower, date_upper],\n",
    "    )\n",
    "\n",
    "    fig.update_yaxes(matches=None)\n",
    "\n",
    "    # make facet labels prettier\n",
    "    fig.for_each_annotation(lambda a: a.update(text=a.text.split(\"=\")[-1]))\n",
    "\n",
    "    fig.update_layout(\n",
    "        height=240 * df[\"Product\"].nunique(),\n",
    "        title=\"eWindow Market Data - Trades by Date\",\n",
    "    )\n",
    "\n",
    "    return fig\n",
    "\n",
    "fig = create_plot(grouped, date(2023, 1, 1), date(2023, 3, 31), values=\"count\")\n",
    "fig.show()\n"
   ]
  },
  {
   "attachments": {},
   "cell_type": "markdown",
   "metadata": {},
   "source": [
    "### Adding Interactivity\n",
    "\n",
    "Using dash to handle selecting `market` and date range\n",
    "\n",
    "**note:** this only works if you're running the notebook interactively (for example locally, or in Colab).\n"
   ]
  },
  {
   "cell_type": "code",
   "execution_count": 9,
   "metadata": {},
   "outputs": [],
   "source": [
    "from jupyter_dash import JupyterDash\n",
    "from dash import dcc, html, Input, Output\n"
   ]
  },
  {
   "cell_type": "code",
   "execution_count": 10,
   "metadata": {},
   "outputs": [
    {
     "name": "stdout",
     "output_type": "stream",
     "text": [
      "Dash is running on http://127.0.0.1:8050/\n",
      "\n"
     ]
    },
    {
     "name": "stderr",
     "output_type": "stream",
     "text": [
      "\u001b[33m * Tip: There are .env or .flaskenv files present. Do \"pip install python-dotenv\" to use them.\u001b[0m\n"
     ]
    },
    {
     "data": {
      "text/html": [
       "\n",
       "        <iframe\n",
       "            width=\"100%\"\n",
       "            height=\"650\"\n",
       "            src=\"http://127.0.0.1:8050/\"\n",
       "            frameborder=\"0\"\n",
       "            allowfullscreen\n",
       "            \n",
       "        ></iframe>\n",
       "        "
      ],
      "text/plain": [
       "<IPython.lib.display.IFrame at 0x12a648dc0>"
      ]
     },
     "metadata": {},
     "output_type": "display_data"
    }
   ],
   "source": [
    "app = JupyterDash(__name__)\n",
    "app.layout = html.Div(\n",
    "    [\n",
    "        html.Div(\n",
    "            [\n",
    "                html.Div(\n",
    "                    [\n",
    "                        html.H2(\"Filters\"),\n",
    "                        html.Div([html.Hr()]),\n",
    "                        html.Div(\n",
    "                            [\n",
    "                                dcc.RadioItems(\n",
    "                                    options=[\n",
    "                                        {\"label\": \"Avg. Price\", \"value\": \"price\"},\n",
    "                                        {\"label\": \"Deal Count\", \"value\": \"count\"},\n",
    "                                    ],\n",
    "                                    value=\"price\",\n",
    "                                    inline=True,\n",
    "                                    id=\"radio\",\n",
    "                                ),\n",
    "                                dcc.Dropdown(\n",
    "                                    id=\"markets-dropdown\",\n",
    "                                    clearable=False,\n",
    "                                    value=\"EU BFOE\",\n",
    "                                    options=[\n",
    "                                        {\"label\": m, \"value\": m}\n",
    "                                        for m in markets[\"market\"]\n",
    "                                    ],\n",
    "                                    style={\n",
    "                                        \"width\": \"288px\",\n",
    "                                    },\n",
    "                                ),\n",
    "                                dcc.DatePickerRange(\n",
    "                                    id=\"date-picker\",\n",
    "                                    start_date=date.today() + timedelta(days=-60),\n",
    "                                    end_date=date.today(),\n",
    "                                ),\n",
    "                            ],\n",
    "                            style={\n",
    "                                \"marginTop\": \"20px\",\n",
    "                                \"display\": \"flex\",\n",
    "                                \"flexDirection\": \"column\",\n",
    "                                \"gap\": \"25px\",\n",
    "                                \"padding\": \"5px\",\n",
    "                            },\n",
    "                        ),\n",
    "                    ],\n",
    "                ),\n",
    "                html.Div(\n",
    "                    [\n",
    "                        dcc.Graph(id=\"output\"),\n",
    "                    ],\n",
    "                    style={\n",
    "                        \"flex\": 1,\n",
    "                        \"overflow\": \"scroll\",\n",
    "                    },\n",
    "                ),\n",
    "            ],\n",
    "            style={\"display\": \"flex\", \"gap\": \"30px\", \"height\": \"100vh\"},\n",
    "        ),\n",
    "    ]\n",
    ")\n",
    "\n",
    "\n",
    "@app.callback(\n",
    "    Output(\"output\", \"figure\"),\n",
    "    [\n",
    "        Input(\"markets-dropdown\", \"value\"),\n",
    "        Input(\"radio\", \"value\"),\n",
    "        Input(\"date-picker\", \"start_date\"),\n",
    "        Input(\"date-picker\", \"end_date\"),\n",
    "    ],\n",
    ")\n",
    "def update(market: str, values, start_date: date, end_date: date):\n",
    "    df = get_data(market, start_date, end_date)\n",
    "    grouped = group_df(df)\n",
    "    return create_plot(grouped, start_date, end_date, values)\n",
    "\n",
    "\n",
    "app.run_server(mode=\"inline\", use_reloader=False)\n"
   ]
  }
 ],
 "metadata": {
  "kernelspec": {
   "display_name": "Python 3",
   "language": "python",
   "name": "python3"
  },
  "language_info": {
   "codemirror_mode": {
    "name": "ipython",
    "version": 3
   },
   "file_extension": ".py",
   "mimetype": "text/x-python",
   "name": "python",
   "nbconvert_exporter": "python",
   "pygments_lexer": "ipython3",
   "version": "3.10.9"
  },
  "orig_nbformat": 4,
  "vscode": {
   "interpreter": {
    "hash": "b0fa6594d8f4cbf19f97940f81e996739fb7646882a419484c72d19e05852a7e"
   }
  }
 },
 "nbformat": 4,
 "nbformat_minor": 2
}
