{
 "cells": [
  {
   "cell_type": "code",
   "execution_count": 1,
   "metadata": {},
   "outputs": [],
   "source": [
    "import spgci as ci\n",
    "import sqlite3\n",
    "import pandas as pd\n",
    "from datetime import date"
   ]
  },
  {
   "cell_type": "code",
   "execution_count": 2,
   "metadata": {},
   "outputs": [],
   "source": [
    "mdd = ci.MarketData()"
   ]
  },
  {
   "attachments": {},
   "cell_type": "markdown",
   "metadata": {},
   "source": [
    "## Backfill data\n",
    "Assuming 2023-1-1 is when we are going to start databasing"
   ]
  },
  {
   "cell_type": "code",
   "execution_count": 3,
   "metadata": {},
   "outputs": [
    {
     "name": "stderr",
     "output_type": "stream",
     "text": [
      "Fetching...: 100%|██████████| 3/3 [00:00<00:00,  2.74it/s]\n"
     ]
    },
    {
     "data": {
      "text/html": [
       "<div>\n",
       "<style scoped>\n",
       "    .dataframe tbody tr th:only-of-type {\n",
       "        vertical-align: middle;\n",
       "    }\n",
       "\n",
       "    .dataframe tbody tr th {\n",
       "        vertical-align: top;\n",
       "    }\n",
       "\n",
       "    .dataframe thead th {\n",
       "        text-align: right;\n",
       "    }\n",
       "</style>\n",
       "<table border=\"1\" class=\"dataframe\">\n",
       "  <thead>\n",
       "    <tr style=\"text-align: right;\">\n",
       "      <th></th>\n",
       "      <th>bate</th>\n",
       "      <th>value</th>\n",
       "      <th>assessDate</th>\n",
       "      <th>isCorrected</th>\n",
       "      <th>modDate</th>\n",
       "      <th>symbol</th>\n",
       "    </tr>\n",
       "  </thead>\n",
       "  <tbody>\n",
       "    <tr>\n",
       "      <th>0</th>\n",
       "      <td>h</td>\n",
       "      <td>19.550</td>\n",
       "      <td>1987-07-08</td>\n",
       "      <td>N</td>\n",
       "      <td>1998-05-19 14:23:09</td>\n",
       "      <td>PCAAS00</td>\n",
       "    </tr>\n",
       "    <tr>\n",
       "      <th>1</th>\n",
       "      <td>l</td>\n",
       "      <td>19.450</td>\n",
       "      <td>1987-07-08</td>\n",
       "      <td>N</td>\n",
       "      <td>1998-05-19 14:23:54</td>\n",
       "      <td>PCAAS00</td>\n",
       "    </tr>\n",
       "    <tr>\n",
       "      <th>2</th>\n",
       "      <td>h</td>\n",
       "      <td>19.700</td>\n",
       "      <td>1987-07-09</td>\n",
       "      <td>N</td>\n",
       "      <td>1998-05-19 14:23:09</td>\n",
       "      <td>PCAAS00</td>\n",
       "    </tr>\n",
       "    <tr>\n",
       "      <th>3</th>\n",
       "      <td>l</td>\n",
       "      <td>19.650</td>\n",
       "      <td>1987-07-09</td>\n",
       "      <td>N</td>\n",
       "      <td>1998-05-19 14:23:54</td>\n",
       "      <td>PCAAS00</td>\n",
       "    </tr>\n",
       "    <tr>\n",
       "      <th>4</th>\n",
       "      <td>h</td>\n",
       "      <td>19.800</td>\n",
       "      <td>1987-07-10</td>\n",
       "      <td>N</td>\n",
       "      <td>1998-05-19 14:23:09</td>\n",
       "      <td>PCAAS00</td>\n",
       "    </tr>\n",
       "    <tr>\n",
       "      <th>...</th>\n",
       "      <td>...</td>\n",
       "      <td>...</td>\n",
       "      <td>...</td>\n",
       "      <td>...</td>\n",
       "      <td>...</td>\n",
       "      <td>...</td>\n",
       "    </tr>\n",
       "    <tr>\n",
       "      <th>20927</th>\n",
       "      <td>h</td>\n",
       "      <td>80.690</td>\n",
       "      <td>2022-12-29</td>\n",
       "      <td>N</td>\n",
       "      <td>2022-12-29 19:13:14</td>\n",
       "      <td>PCAAS00</td>\n",
       "    </tr>\n",
       "    <tr>\n",
       "      <th>20928</th>\n",
       "      <td>l</td>\n",
       "      <td>80.680</td>\n",
       "      <td>2022-12-29</td>\n",
       "      <td>N</td>\n",
       "      <td>2022-12-29 19:13:14</td>\n",
       "      <td>PCAAS00</td>\n",
       "    </tr>\n",
       "    <tr>\n",
       "      <th>20929</th>\n",
       "      <td>c</td>\n",
       "      <td>81.325</td>\n",
       "      <td>2022-12-30</td>\n",
       "      <td>N</td>\n",
       "      <td>2022-12-30 14:13:00</td>\n",
       "      <td>PCAAS00</td>\n",
       "    </tr>\n",
       "    <tr>\n",
       "      <th>20930</th>\n",
       "      <td>h</td>\n",
       "      <td>81.330</td>\n",
       "      <td>2022-12-30</td>\n",
       "      <td>N</td>\n",
       "      <td>2022-12-30 14:13:00</td>\n",
       "      <td>PCAAS00</td>\n",
       "    </tr>\n",
       "    <tr>\n",
       "      <th>20931</th>\n",
       "      <td>l</td>\n",
       "      <td>81.320</td>\n",
       "      <td>2022-12-30</td>\n",
       "      <td>N</td>\n",
       "      <td>2022-12-30 14:13:00</td>\n",
       "      <td>PCAAS00</td>\n",
       "    </tr>\n",
       "  </tbody>\n",
       "</table>\n",
       "<p>20932 rows × 6 columns</p>\n",
       "</div>"
      ],
      "text/plain": [
       "      bate   value assessDate isCorrected             modDate   symbol\n",
       "0        h  19.550 1987-07-08           N 1998-05-19 14:23:09  PCAAS00\n",
       "1        l  19.450 1987-07-08           N 1998-05-19 14:23:54  PCAAS00\n",
       "2        h  19.700 1987-07-09           N 1998-05-19 14:23:09  PCAAS00\n",
       "3        l  19.650 1987-07-09           N 1998-05-19 14:23:54  PCAAS00\n",
       "4        h  19.800 1987-07-10           N 1998-05-19 14:23:09  PCAAS00\n",
       "...    ...     ...        ...         ...                 ...      ...\n",
       "20927    h  80.690 2022-12-29           N 2022-12-29 19:13:14  PCAAS00\n",
       "20928    l  80.680 2022-12-29           N 2022-12-29 19:13:14  PCAAS00\n",
       "20929    c  81.325 2022-12-30           N 2022-12-30 14:13:00  PCAAS00\n",
       "20930    h  81.330 2022-12-30           N 2022-12-30 14:13:00  PCAAS00\n",
       "20931    l  81.320 2022-12-30           N 2022-12-30 14:13:00  PCAAS00\n",
       "\n",
       "[20932 rows x 6 columns]"
      ]
     },
     "execution_count": 3,
     "metadata": {},
     "output_type": "execute_result"
    }
   ],
   "source": [
    "initial_date = date(2023,1,1)\n",
    "df = mdd.get_assessments_by_symbol_historical(symbol=\"PCAAS00\", assess_date_lte=initial_date, paginate=True)\n",
    "df"
   ]
  },
  {
   "attachments": {},
   "cell_type": "markdown",
   "metadata": {},
   "source": [
    "connect to database, and setup schema for `spgci_assessments`"
   ]
  },
  {
   "cell_type": "code",
   "execution_count": 4,
   "metadata": {},
   "outputs": [
    {
     "data": {
      "text/plain": [
       "<sqlite3.Cursor at 0x13410f0c0>"
      ]
     },
     "execution_count": 4,
     "metadata": {},
     "output_type": "execute_result"
    }
   ],
   "source": [
    "conn = sqlite3.connect('db.db', detect_types=sqlite3.PARSE_COLNAMES|sqlite3.PARSE_DECLTYPES)\n",
    "conn.execute(pd.io.sql.get_schema(df, 'spgci_assessments', con=conn, keys=['symbol', 'bate', 'assessDate']))"
   ]
  },
  {
   "attachments": {},
   "cell_type": "markdown",
   "metadata": {},
   "source": [
    "function to generate a prepared statement"
   ]
  },
  {
   "cell_type": "code",
   "execution_count": 5,
   "metadata": {},
   "outputs": [],
   "source": [
    "def prepare_stmt(table, columns):\n",
    "  cols = f\"({','.join(columns)})\"\n",
    "  values = f\"({','.join(['?' for i in columns])})\"\n",
    "  stmt = f\"INSERT OR REPLACE INTO {table} {cols} VALUES {values}\"\n",
    "\n",
    "  return stmt"
   ]
  },
  {
   "cell_type": "code",
   "execution_count": 6,
   "metadata": {},
   "outputs": [
    {
     "data": {
      "text/plain": [
       "'INSERT OR REPLACE INTO spgci_assessments (bate,value,assessDate,isCorrected,modDate,symbol) VALUES (?,?,?,?,?,?)'"
      ]
     },
     "execution_count": 6,
     "metadata": {},
     "output_type": "execute_result"
    }
   ],
   "source": [
    "ps = prepare_stmt(\"spgci_assessments\", df.columns)\n",
    "ps"
   ]
  },
  {
   "attachments": {},
   "cell_type": "markdown",
   "metadata": {},
   "source": [
    "function to insert data from a dataframe"
   ]
  },
  {
   "cell_type": "code",
   "execution_count": 7,
   "metadata": {},
   "outputs": [],
   "source": [
    "def insert(conn, stmt, row):\n",
    "  values = []\n",
    "  for r in row:\n",
    "    if isinstance(r, pd.Timestamp):\n",
    "      values.append(r.to_pydatetime())\n",
    "    elif isinstance(r, list):\n",
    "      values.append(str(r))\n",
    "    else:\n",
    "      values.append(r)\n",
    "      \n",
    "  conn.execute(stmt,values) \n"
   ]
  },
  {
   "cell_type": "code",
   "execution_count": 8,
   "metadata": {},
   "outputs": [
    {
     "data": {
      "text/plain": [
       "False"
      ]
     },
     "execution_count": 8,
     "metadata": {},
     "output_type": "execute_result"
    }
   ],
   "source": [
    "isinstance(pd.Timestamp('2023-01-01'), list)"
   ]
  },
  {
   "cell_type": "code",
   "execution_count": 9,
   "metadata": {},
   "outputs": [],
   "source": [
    "df.apply(lambda x: insert(conn, ps, x), axis=1)\n",
    "conn.commit()"
   ]
  },
  {
   "attachments": {},
   "cell_type": "markdown",
   "metadata": {},
   "source": [
    "observe the records are in the database. hence backfilling is complete"
   ]
  },
  {
   "cell_type": "code",
   "execution_count": 10,
   "metadata": {},
   "outputs": [
    {
     "name": "stdout",
     "output_type": "stream",
     "text": [
      "('c', 81.325, datetime.datetime(2022, 12, 30, 0, 0), 'N', datetime.datetime(2022, 12, 30, 14, 13), 'PCAAS00')\n",
      "('h', 81.33, datetime.datetime(2022, 12, 30, 0, 0), 'N', datetime.datetime(2022, 12, 30, 14, 13), 'PCAAS00')\n",
      "('l', 81.32, datetime.datetime(2022, 12, 30, 0, 0), 'N', datetime.datetime(2022, 12, 30, 14, 13), 'PCAAS00')\n",
      "('c', 80.685, datetime.datetime(2022, 12, 29, 0, 0), 'N', datetime.datetime(2022, 12, 29, 19, 13, 14), 'PCAAS00')\n",
      "('h', 80.69, datetime.datetime(2022, 12, 29, 0, 0), 'N', datetime.datetime(2022, 12, 29, 19, 13, 14), 'PCAAS00')\n",
      "('l', 80.68, datetime.datetime(2022, 12, 29, 0, 0), 'N', datetime.datetime(2022, 12, 29, 19, 13, 14), 'PCAAS00')\n",
      "('c', 81.14, datetime.datetime(2022, 12, 28, 0, 0), 'N', datetime.datetime(2022, 12, 28, 18, 43, 53), 'PCAAS00')\n",
      "('h', 81.15, datetime.datetime(2022, 12, 28, 0, 0), 'N', datetime.datetime(2022, 12, 28, 18, 43, 53), 'PCAAS00')\n",
      "('l', 81.13, datetime.datetime(2022, 12, 28, 0, 0), 'N', datetime.datetime(2022, 12, 28, 18, 43, 53), 'PCAAS00')\n",
      "('c', 80.885, datetime.datetime(2022, 12, 23, 0, 0), 'N', datetime.datetime(2022, 12, 23, 14, 22, 57), 'PCAAS00')\n"
     ]
    }
   ],
   "source": [
    "r = conn.execute(\"\"\"\n",
    "    select * from spgci_assessments \n",
    "    order by assessDate desc\n",
    "    limit 10;\n",
    "\"\"\")\n",
    "for row in r:\n",
    "    print(row)"
   ]
  },
  {
   "attachments": {},
   "cell_type": "markdown",
   "metadata": {},
   "source": [
    "# Fetch Deltas\n",
    "now - let's start getting newer data.\n",
    "\n",
    "in reality this would be called every day (or several times a day) to add more data as it becomes available"
   ]
  },
  {
   "cell_type": "code",
   "execution_count": 11,
   "metadata": {},
   "outputs": [
    {
     "data": {
      "text/html": [
       "<div>\n",
       "<style scoped>\n",
       "    .dataframe tbody tr th:only-of-type {\n",
       "        vertical-align: middle;\n",
       "    }\n",
       "\n",
       "    .dataframe tbody tr th {\n",
       "        vertical-align: top;\n",
       "    }\n",
       "\n",
       "    .dataframe thead th {\n",
       "        text-align: right;\n",
       "    }\n",
       "</style>\n",
       "<table border=\"1\" class=\"dataframe\">\n",
       "  <thead>\n",
       "    <tr style=\"text-align: right;\">\n",
       "      <th></th>\n",
       "      <th>bate</th>\n",
       "      <th>value</th>\n",
       "      <th>assessDate</th>\n",
       "      <th>isCorrected</th>\n",
       "      <th>modDate</th>\n",
       "      <th>symbol</th>\n",
       "    </tr>\n",
       "  </thead>\n",
       "  <tbody>\n",
       "    <tr>\n",
       "      <th>0</th>\n",
       "      <td>c</td>\n",
       "      <td>81.23</td>\n",
       "      <td>2023-01-03</td>\n",
       "      <td>N</td>\n",
       "      <td>2023-01-03 18:32:18</td>\n",
       "      <td>PCAAS00</td>\n",
       "    </tr>\n",
       "    <tr>\n",
       "      <th>1</th>\n",
       "      <td>h</td>\n",
       "      <td>81.24</td>\n",
       "      <td>2023-01-03</td>\n",
       "      <td>N</td>\n",
       "      <td>2023-01-03 18:32:18</td>\n",
       "      <td>PCAAS00</td>\n",
       "    </tr>\n",
       "    <tr>\n",
       "      <th>2</th>\n",
       "      <td>l</td>\n",
       "      <td>81.22</td>\n",
       "      <td>2023-01-03</td>\n",
       "      <td>N</td>\n",
       "      <td>2023-01-03 18:32:18</td>\n",
       "      <td>PCAAS00</td>\n",
       "    </tr>\n",
       "    <tr>\n",
       "      <th>3</th>\n",
       "      <td>c</td>\n",
       "      <td>75.52</td>\n",
       "      <td>2023-01-04</td>\n",
       "      <td>N</td>\n",
       "      <td>2023-01-04 18:20:35</td>\n",
       "      <td>PCAAS00</td>\n",
       "    </tr>\n",
       "    <tr>\n",
       "      <th>4</th>\n",
       "      <td>h</td>\n",
       "      <td>75.53</td>\n",
       "      <td>2023-01-04</td>\n",
       "      <td>N</td>\n",
       "      <td>2023-01-04 18:20:35</td>\n",
       "      <td>PCAAS00</td>\n",
       "    </tr>\n",
       "  </tbody>\n",
       "</table>\n",
       "</div>"
      ],
      "text/plain": [
       "  bate  value assessDate isCorrected             modDate   symbol\n",
       "0    c  81.23 2023-01-03           N 2023-01-03 18:32:18  PCAAS00\n",
       "1    h  81.24 2023-01-03           N 2023-01-03 18:32:18  PCAAS00\n",
       "2    l  81.22 2023-01-03           N 2023-01-03 18:32:18  PCAAS00\n",
       "3    c  75.52 2023-01-04           N 2023-01-04 18:20:35  PCAAS00\n",
       "4    h  75.53 2023-01-04           N 2023-01-04 18:20:35  PCAAS00"
      ]
     },
     "execution_count": 11,
     "metadata": {},
     "output_type": "execute_result"
    }
   ],
   "source": [
    "df_since = mdd.get_assessments_by_symbol_historical(symbol=\"PCAAS00\", assess_date_gte=initial_date, paginate=True)\n",
    "df_since.head()"
   ]
  },
  {
   "cell_type": "code",
   "execution_count": 12,
   "metadata": {},
   "outputs": [],
   "source": [
    "stmt = prepare_stmt(\"spgci_assessments\", df_since.columns)\n",
    "df_since.apply(lambda x: insert(conn, stmt, x), axis=1)\n",
    "conn.commit()"
   ]
  },
  {
   "attachments": {},
   "cell_type": "markdown",
   "metadata": {},
   "source": [
    "Observe new data has been added"
   ]
  },
  {
   "cell_type": "code",
   "execution_count": 13,
   "metadata": {},
   "outputs": [
    {
     "name": "stdout",
     "output_type": "stream",
     "text": [
      "('c', 77.84, datetime.datetime(2023, 3, 28, 0, 0), 'N', datetime.datetime(2023, 3, 28, 17, 1, 48), 'PCAAS00')\n",
      "('h', 77.85, datetime.datetime(2023, 3, 28, 0, 0), 'N', datetime.datetime(2023, 3, 28, 17, 1, 48), 'PCAAS00')\n",
      "('l', 77.83, datetime.datetime(2023, 3, 28, 0, 0), 'N', datetime.datetime(2023, 3, 28, 17, 1, 48), 'PCAAS00')\n",
      "('c', 75.255, datetime.datetime(2023, 3, 27, 0, 0), 'N', datetime.datetime(2023, 3, 27, 18, 24, 7), 'PCAAS00')\n",
      "('h', 75.26, datetime.datetime(2023, 3, 27, 0, 0), 'N', datetime.datetime(2023, 3, 27, 18, 24, 7), 'PCAAS00')\n",
      "('l', 75.25, datetime.datetime(2023, 3, 27, 0, 0), 'N', datetime.datetime(2023, 3, 27, 18, 24, 7), 'PCAAS00')\n",
      "('c', 73.245, datetime.datetime(2023, 3, 24, 0, 0), 'N', datetime.datetime(2023, 3, 24, 18, 37, 1), 'PCAAS00')\n",
      "('h', 73.25, datetime.datetime(2023, 3, 24, 0, 0), 'N', datetime.datetime(2023, 3, 24, 18, 37, 1), 'PCAAS00')\n",
      "('l', 73.24, datetime.datetime(2023, 3, 24, 0, 0), 'N', datetime.datetime(2023, 3, 24, 18, 37, 1), 'PCAAS00')\n",
      "('c', 75.88, datetime.datetime(2023, 3, 23, 0, 0), 'N', datetime.datetime(2023, 3, 23, 18, 4, 51), 'PCAAS00')\n"
     ]
    }
   ],
   "source": [
    "r = conn.execute(\"\"\"\n",
    "    select * from spgci_assessments \n",
    "    order by assessDate desc\n",
    "    limit 10;\n",
    "\"\"\")\n",
    "for row in r:\n",
    "    print(row)"
   ]
  },
  {
   "attachments": {},
   "cell_type": "markdown",
   "metadata": {},
   "source": [
    "Now, lets add reference data so we know the description, currency, uom, etc.."
   ]
  },
  {
   "cell_type": "code",
   "execution_count": 14,
   "metadata": {},
   "outputs": [
    {
     "data": {
      "text/html": [
       "<div>\n",
       "<style scoped>\n",
       "    .dataframe tbody tr th:only-of-type {\n",
       "        vertical-align: middle;\n",
       "    }\n",
       "\n",
       "    .dataframe tbody tr th {\n",
       "        vertical-align: top;\n",
       "    }\n",
       "\n",
       "    .dataframe thead th {\n",
       "        text-align: right;\n",
       "    }\n",
       "</style>\n",
       "<table border=\"1\" class=\"dataframe\">\n",
       "  <thead>\n",
       "    <tr style=\"text-align: right;\">\n",
       "      <th></th>\n",
       "      <th>symbol</th>\n",
       "      <th>description</th>\n",
       "      <th>commodity</th>\n",
       "      <th>assessment_frequency</th>\n",
       "      <th>bate_code</th>\n",
       "      <th>benchmark</th>\n",
       "      <th>holiday_schedule</th>\n",
       "      <th>commodity_grade</th>\n",
       "      <th>contract_type</th>\n",
       "      <th>currency</th>\n",
       "      <th>...</th>\n",
       "      <th>kinematic_viscosity</th>\n",
       "      <th>pour_point</th>\n",
       "      <th>flash_point</th>\n",
       "      <th>originating_region</th>\n",
       "      <th>originating_region_basis</th>\n",
       "      <th>curve_code</th>\n",
       "      <th>curve_name</th>\n",
       "      <th>cargo_size</th>\n",
       "      <th>delivery_load</th>\n",
       "      <th>exchange</th>\n",
       "    </tr>\n",
       "  </thead>\n",
       "  <tbody>\n",
       "    <tr>\n",
       "      <th>0</th>\n",
       "      <td>AJSVB00</td>\n",
       "      <td>Johan Sverdrup FOB North Sea vs North Sea Dtd ...</td>\n",
       "      <td>Crude oil</td>\n",
       "      <td>Daily (weekday)</td>\n",
       "      <td>[c]</td>\n",
       "      <td>Benchmark</td>\n",
       "      <td>CALLN00</td>\n",
       "      <td>Platts - Crude Oil - Johan Sverdrup</td>\n",
       "      <td>Spot</td>\n",
       "      <td>USD</td>\n",
       "      <td>...</td>\n",
       "      <td>NaN</td>\n",
       "      <td>NaN</td>\n",
       "      <td>NaN</td>\n",
       "      <td>NaN</td>\n",
       "      <td>NaN</td>\n",
       "      <td>NaN</td>\n",
       "      <td>NaN</td>\n",
       "      <td>NaN</td>\n",
       "      <td>NaN</td>\n",
       "      <td>NaN</td>\n",
       "    </tr>\n",
       "    <tr>\n",
       "      <th>1</th>\n",
       "      <td>AAGZU00</td>\n",
       "      <td>CPC Blend CIF Augusta</td>\n",
       "      <td>Crude oil</td>\n",
       "      <td>Daily (weekday)</td>\n",
       "      <td>[c, h, l]</td>\n",
       "      <td>Benchmark</td>\n",
       "      <td>CALLN00</td>\n",
       "      <td>Platts - Crude Oil - CPC Blend</td>\n",
       "      <td>Spot</td>\n",
       "      <td>USD</td>\n",
       "      <td>...</td>\n",
       "      <td>NaN</td>\n",
       "      <td>NaN</td>\n",
       "      <td>NaN</td>\n",
       "      <td>NaN</td>\n",
       "      <td>NaN</td>\n",
       "      <td>NaN</td>\n",
       "      <td>NaN</td>\n",
       "      <td>NaN</td>\n",
       "      <td>NaN</td>\n",
       "      <td>NaN</td>\n",
       "    </tr>\n",
       "    <tr>\n",
       "      <th>2</th>\n",
       "      <td>AALIN00</td>\n",
       "      <td>Urals Recombined (RCMB)</td>\n",
       "      <td>Crude oil</td>\n",
       "      <td>Daily (weekday)</td>\n",
       "      <td>[c, h, l]</td>\n",
       "      <td>Benchmark</td>\n",
       "      <td>CALLN00</td>\n",
       "      <td>Platts - Crude Oil - Ural</td>\n",
       "      <td>Spot</td>\n",
       "      <td>USD</td>\n",
       "      <td>...</td>\n",
       "      <td>NaN</td>\n",
       "      <td>NaN</td>\n",
       "      <td>NaN</td>\n",
       "      <td>NaN</td>\n",
       "      <td>NaN</td>\n",
       "      <td>NaN</td>\n",
       "      <td>NaN</td>\n",
       "      <td>NaN</td>\n",
       "      <td>NaN</td>\n",
       "      <td>NaN</td>\n",
       "    </tr>\n",
       "    <tr>\n",
       "      <th>3</th>\n",
       "      <td>PCAAQ00</td>\n",
       "      <td>Brent Mo01 (NextGen MOC)</td>\n",
       "      <td>Crude oil</td>\n",
       "      <td>Daily (weekday)</td>\n",
       "      <td>[c, h, l]</td>\n",
       "      <td>Benchmark</td>\n",
       "      <td>CALLN00</td>\n",
       "      <td>Platts - Crude Oil - Brent</td>\n",
       "      <td>Forward</td>\n",
       "      <td>USD</td>\n",
       "      <td>...</td>\n",
       "      <td>NaN</td>\n",
       "      <td>NaN</td>\n",
       "      <td>NaN</td>\n",
       "      <td>NaN</td>\n",
       "      <td>NaN</td>\n",
       "      <td>NaN</td>\n",
       "      <td>NaN</td>\n",
       "      <td>NaN</td>\n",
       "      <td>NaN</td>\n",
       "      <td>NaN</td>\n",
       "    </tr>\n",
       "    <tr>\n",
       "      <th>4</th>\n",
       "      <td>AWTID00</td>\n",
       "      <td>WTI Midland DAP Basis Rotterdam vs Fwd Dated B...</td>\n",
       "      <td>Crude oil</td>\n",
       "      <td>Daily (weekday)</td>\n",
       "      <td>[c]</td>\n",
       "      <td>Benchmark</td>\n",
       "      <td>CALLN00</td>\n",
       "      <td>Platts - Crude Oil - WTI Midland</td>\n",
       "      <td>Spot</td>\n",
       "      <td>USD</td>\n",
       "      <td>...</td>\n",
       "      <td>NaN</td>\n",
       "      <td>NaN</td>\n",
       "      <td>NaN</td>\n",
       "      <td>NaN</td>\n",
       "      <td>NaN</td>\n",
       "      <td>NaN</td>\n",
       "      <td>NaN</td>\n",
       "      <td>NaN</td>\n",
       "      <td>NaN</td>\n",
       "      <td>NaN</td>\n",
       "    </tr>\n",
       "    <tr>\n",
       "      <th>...</th>\n",
       "      <td>...</td>\n",
       "      <td>...</td>\n",
       "      <td>...</td>\n",
       "      <td>...</td>\n",
       "      <td>...</td>\n",
       "      <td>...</td>\n",
       "      <td>...</td>\n",
       "      <td>...</td>\n",
       "      <td>...</td>\n",
       "      <td>...</td>\n",
       "      <td>...</td>\n",
       "      <td>...</td>\n",
       "      <td>...</td>\n",
       "      <td>...</td>\n",
       "      <td>...</td>\n",
       "      <td>...</td>\n",
       "      <td>...</td>\n",
       "      <td>...</td>\n",
       "      <td>...</td>\n",
       "      <td>...</td>\n",
       "      <td>...</td>\n",
       "    </tr>\n",
       "    <tr>\n",
       "      <th>599</th>\n",
       "      <td>AAUFI03</td>\n",
       "      <td>BTC Dated Brent Strip MAvg</td>\n",
       "      <td>Crude oil</td>\n",
       "      <td>Monthly</td>\n",
       "      <td>[c, h, l]</td>\n",
       "      <td>NaN</td>\n",
       "      <td>#Not Applicable</td>\n",
       "      <td>Platts - Crude Oil - Azeri Light</td>\n",
       "      <td>Strip</td>\n",
       "      <td>USD</td>\n",
       "      <td>...</td>\n",
       "      <td>NaN</td>\n",
       "      <td>NaN</td>\n",
       "      <td>NaN</td>\n",
       "      <td>NaN</td>\n",
       "      <td>NaN</td>\n",
       "      <td>NaN</td>\n",
       "      <td>NaN</td>\n",
       "      <td>NaN</td>\n",
       "      <td>NaN</td>\n",
       "      <td>NaN</td>\n",
       "    </tr>\n",
       "    <tr>\n",
       "      <th>600</th>\n",
       "      <td>AALDG00</td>\n",
       "      <td>Med Dated Brent Strip 13-28 Day MAvg</td>\n",
       "      <td>Crude oil</td>\n",
       "      <td>Monthly</td>\n",
       "      <td>[c, h, l]</td>\n",
       "      <td>NaN</td>\n",
       "      <td>#Not Applicable</td>\n",
       "      <td>Platts - Crude Oil - Brent</td>\n",
       "      <td>Strip</td>\n",
       "      <td>USD</td>\n",
       "      <td>...</td>\n",
       "      <td>NaN</td>\n",
       "      <td>NaN</td>\n",
       "      <td>NaN</td>\n",
       "      <td>NaN</td>\n",
       "      <td>NaN</td>\n",
       "      <td>NaN</td>\n",
       "      <td>NaN</td>\n",
       "      <td>NaN</td>\n",
       "      <td>NaN</td>\n",
       "      <td>NaN</td>\n",
       "    </tr>\n",
       "    <tr>\n",
       "      <th>601</th>\n",
       "      <td>AAWXY03</td>\n",
       "      <td>Brent NX EFP Mo03 MAvg</td>\n",
       "      <td>Crude oil</td>\n",
       "      <td>Monthly</td>\n",
       "      <td>[c, h, l]</td>\n",
       "      <td>NaN</td>\n",
       "      <td>#Not Applicable</td>\n",
       "      <td>Platts - Crude Oil - Brent</td>\n",
       "      <td>EFP</td>\n",
       "      <td>USD</td>\n",
       "      <td>...</td>\n",
       "      <td>NaN</td>\n",
       "      <td>NaN</td>\n",
       "      <td>NaN</td>\n",
       "      <td>NaN</td>\n",
       "      <td>NaN</td>\n",
       "      <td>NaN</td>\n",
       "      <td>NaN</td>\n",
       "      <td>NaN</td>\n",
       "      <td>NaN</td>\n",
       "      <td>NaN</td>\n",
       "    </tr>\n",
       "    <tr>\n",
       "      <th>602</th>\n",
       "      <td>AAGXO00</td>\n",
       "      <td>Qua Iboe FOB Nigeria vs WAF Dtd Strip MAvg</td>\n",
       "      <td>Crude oil</td>\n",
       "      <td>Monthly</td>\n",
       "      <td>[c, h, l]</td>\n",
       "      <td>NaN</td>\n",
       "      <td>#Not Applicable</td>\n",
       "      <td>Platts - Crude Oil - Qua Iboe</td>\n",
       "      <td>Spot</td>\n",
       "      <td>USD</td>\n",
       "      <td>...</td>\n",
       "      <td>3.92</td>\n",
       "      <td>12.0</td>\n",
       "      <td>NaN</td>\n",
       "      <td>NaN</td>\n",
       "      <td>NaN</td>\n",
       "      <td>NaN</td>\n",
       "      <td>NaN</td>\n",
       "      <td>NaN</td>\n",
       "      <td>NaN</td>\n",
       "      <td>NaN</td>\n",
       "    </tr>\n",
       "    <tr>\n",
       "      <th>603</th>\n",
       "      <td>AAQAW13</td>\n",
       "      <td>WTI Mo03 EFP London 16:30 MAvg</td>\n",
       "      <td>Crude oil</td>\n",
       "      <td>Monthly</td>\n",
       "      <td>[c, h, l]</td>\n",
       "      <td>NaN</td>\n",
       "      <td>#Not Applicable</td>\n",
       "      <td>Platts - Crude Oil - West Texas Intermediate</td>\n",
       "      <td>EFP</td>\n",
       "      <td>USD</td>\n",
       "      <td>...</td>\n",
       "      <td>NaN</td>\n",
       "      <td>NaN</td>\n",
       "      <td>NaN</td>\n",
       "      <td>NaN</td>\n",
       "      <td>NaN</td>\n",
       "      <td>NaN</td>\n",
       "      <td>NaN</td>\n",
       "      <td>NaN</td>\n",
       "      <td>NaN</td>\n",
       "      <td>NaN</td>\n",
       "    </tr>\n",
       "  </tbody>\n",
       "</table>\n",
       "<p>604 rows × 42 columns</p>\n",
       "</div>"
      ],
      "text/plain": [
       "      symbol                                        description  commodity  \\\n",
       "0    AJSVB00  Johan Sverdrup FOB North Sea vs North Sea Dtd ...  Crude oil   \n",
       "1    AAGZU00                              CPC Blend CIF Augusta  Crude oil   \n",
       "2    AALIN00                            Urals Recombined (RCMB)  Crude oil   \n",
       "3    PCAAQ00                           Brent Mo01 (NextGen MOC)  Crude oil   \n",
       "4    AWTID00  WTI Midland DAP Basis Rotterdam vs Fwd Dated B...  Crude oil   \n",
       "..       ...                                                ...        ...   \n",
       "599  AAUFI03                         BTC Dated Brent Strip MAvg  Crude oil   \n",
       "600  AALDG00               Med Dated Brent Strip 13-28 Day MAvg  Crude oil   \n",
       "601  AAWXY03                             Brent NX EFP Mo03 MAvg  Crude oil   \n",
       "602  AAGXO00         Qua Iboe FOB Nigeria vs WAF Dtd Strip MAvg  Crude oil   \n",
       "603  AAQAW13                     WTI Mo03 EFP London 16:30 MAvg  Crude oil   \n",
       "\n",
       "    assessment_frequency  bate_code  benchmark holiday_schedule  \\\n",
       "0        Daily (weekday)        [c]  Benchmark          CALLN00   \n",
       "1        Daily (weekday)  [c, h, l]  Benchmark          CALLN00   \n",
       "2        Daily (weekday)  [c, h, l]  Benchmark          CALLN00   \n",
       "3        Daily (weekday)  [c, h, l]  Benchmark          CALLN00   \n",
       "4        Daily (weekday)        [c]  Benchmark          CALLN00   \n",
       "..                   ...        ...        ...              ...   \n",
       "599              Monthly  [c, h, l]        NaN  #Not Applicable   \n",
       "600              Monthly  [c, h, l]        NaN  #Not Applicable   \n",
       "601              Monthly  [c, h, l]        NaN  #Not Applicable   \n",
       "602              Monthly  [c, h, l]        NaN  #Not Applicable   \n",
       "603              Monthly  [c, h, l]        NaN  #Not Applicable   \n",
       "\n",
       "                                  commodity_grade contract_type currency  ...  \\\n",
       "0             Platts - Crude Oil - Johan Sverdrup          Spot      USD  ...   \n",
       "1                  Platts - Crude Oil - CPC Blend          Spot      USD  ...   \n",
       "2                       Platts - Crude Oil - Ural          Spot      USD  ...   \n",
       "3                      Platts - Crude Oil - Brent       Forward      USD  ...   \n",
       "4                Platts - Crude Oil - WTI Midland          Spot      USD  ...   \n",
       "..                                            ...           ...      ...  ...   \n",
       "599              Platts - Crude Oil - Azeri Light         Strip      USD  ...   \n",
       "600                    Platts - Crude Oil - Brent         Strip      USD  ...   \n",
       "601                    Platts - Crude Oil - Brent           EFP      USD  ...   \n",
       "602                 Platts - Crude Oil - Qua Iboe          Spot      USD  ...   \n",
       "603  Platts - Crude Oil - West Texas Intermediate           EFP      USD  ...   \n",
       "\n",
       "     kinematic_viscosity pour_point flash_point originating_region  \\\n",
       "0                    NaN        NaN         NaN                NaN   \n",
       "1                    NaN        NaN         NaN                NaN   \n",
       "2                    NaN        NaN         NaN                NaN   \n",
       "3                    NaN        NaN         NaN                NaN   \n",
       "4                    NaN        NaN         NaN                NaN   \n",
       "..                   ...        ...         ...                ...   \n",
       "599                  NaN        NaN         NaN                NaN   \n",
       "600                  NaN        NaN         NaN                NaN   \n",
       "601                  NaN        NaN         NaN                NaN   \n",
       "602                 3.92       12.0         NaN                NaN   \n",
       "603                  NaN        NaN         NaN                NaN   \n",
       "\n",
       "    originating_region_basis curve_code curve_name cargo_size delivery_load  \\\n",
       "0                        NaN        NaN        NaN        NaN           NaN   \n",
       "1                        NaN        NaN        NaN        NaN           NaN   \n",
       "2                        NaN        NaN        NaN        NaN           NaN   \n",
       "3                        NaN        NaN        NaN        NaN           NaN   \n",
       "4                        NaN        NaN        NaN        NaN           NaN   \n",
       "..                       ...        ...        ...        ...           ...   \n",
       "599                      NaN        NaN        NaN        NaN           NaN   \n",
       "600                      NaN        NaN        NaN        NaN           NaN   \n",
       "601                      NaN        NaN        NaN        NaN           NaN   \n",
       "602                      NaN        NaN        NaN        NaN           NaN   \n",
       "603                      NaN        NaN        NaN        NaN           NaN   \n",
       "\n",
       "    exchange  \n",
       "0        NaN  \n",
       "1        NaN  \n",
       "2        NaN  \n",
       "3        NaN  \n",
       "4        NaN  \n",
       "..       ...  \n",
       "599      NaN  \n",
       "600      NaN  \n",
       "601      NaN  \n",
       "602      NaN  \n",
       "603      NaN  \n",
       "\n",
       "[604 rows x 42 columns]"
      ]
     },
     "execution_count": 14,
     "metadata": {},
     "output_type": "execute_result"
    }
   ],
   "source": [
    "ref = mdd.get_symbols(mdc=\"RI\", paginate=True)\n",
    "ref"
   ]
  },
  {
   "attachments": {},
   "cell_type": "markdown",
   "metadata": {},
   "source": [
    "same as before:\n",
    "\n",
    "create table, prepare stmt, insert rows, commit"
   ]
  },
  {
   "cell_type": "code",
   "execution_count": 15,
   "metadata": {},
   "outputs": [
    {
     "data": {
      "text/plain": [
       "<sqlite3.Cursor at 0x13410f9c0>"
      ]
     },
     "execution_count": 15,
     "metadata": {},
     "output_type": "execute_result"
    }
   ],
   "source": [
    "conn.execute(pd.io.sql.get_schema(ref, 'spgci_symbols', con=conn, keys=['symbol']))"
   ]
  },
  {
   "cell_type": "code",
   "execution_count": 16,
   "metadata": {},
   "outputs": [],
   "source": [
    "stmt = prepare_stmt(\"spgci_symbols\", ref.columns)\n",
    "ref.apply(lambda x: insert(conn, stmt, x), axis=1)\n",
    "conn.commit()"
   ]
  },
  {
   "cell_type": "code",
   "execution_count": 17,
   "metadata": {},
   "outputs": [
    {
     "data": {
      "text/plain": [
       "'CREATE TABLE \"spgci_symbols\" (\\n\"symbol\" TEXT,\\n  \"description\" TEXT,\\n  \"commodity\" TEXT,\\n  \"assessment_frequency\" TEXT,\\n  \"bate_code\" TEXT,\\n  \"benchmark\" TEXT,\\n  \"holiday_schedule\" TEXT,\\n  \"commodity_grade\" TEXT,\\n  \"contract_type\" TEXT,\\n  \"currency\" TEXT,\\n  \"decimal_places\" REAL,\\n  \"publication_frequency_code\" TEXT,\\n  \"mdc_description\" TEXT,\\n  \"mdc\" TEXT,\\n  \"day_of_publication\" TEXT,\\n  \"quotation_style\" TEXT,\\n  \"delivery_region\" TEXT,\\n  \"delivery_region_basis\" TEXT,\\n  \"settlement_type\" TEXT,\\n  \"shipping_terms\" TEXT,\\n  \"api_gravity\" REAL,\\n  \"standard_lot_size\" REAL,\\n  \"standard_lot_units\" TEXT,\\n  \"active\" TEXT,\\n  \"sulfur\" REAL,\\n  \"timestamp\" TEXT,\\n  \"uom\" TEXT,\\n  \"delivery_region_port_id\" TEXT,\\n  \"density\" REAL,\\n  \"delivery_region_basis_port_id\" TEXT,\\n  \"derivative_maturity_frequency\" TEXT,\\n  \"derivative_position\" TEXT,\\n  \"kinematic_viscosity\" REAL,\\n  \"pour_point\" REAL,\\n  \"flash_point\" REAL,\\n  \"originating_region\" TEXT,\\n  \"originating_region_basis\" TEXT,\\n  \"curve_code\" TEXT,\\n  \"curve_name\" TEXT,\\n  \"cargo_size\" REAL,\\n  \"delivery_load\" TEXT,\\n  \"exchange\" TEXT,\\n  CONSTRAINT spgci_symbols_pk PRIMARY KEY (\"symbol\")\\n)'"
      ]
     },
     "execution_count": 17,
     "metadata": {},
     "output_type": "execute_result"
    }
   ],
   "source": [
    "pd.io.sql.get_schema(ref, 'spgci_symbols', con=conn, keys=['symbol'])"
   ]
  },
  {
   "attachments": {},
   "cell_type": "markdown",
   "metadata": {},
   "source": [
    "Now we have reference data"
   ]
  },
  {
   "cell_type": "code",
   "execution_count": 18,
   "metadata": {},
   "outputs": [
    {
     "name": "stdout",
     "output_type": "stream",
     "text": [
      "('AJSVB00', 'Johan Sverdrup FOB North Sea vs North Sea Dtd Strip', 'Crude oil', 'Daily (weekday)', \"['c']\", 'Benchmark', 'CALLN00', 'Platts - Crude Oil - Johan Sverdrup', 'Spot', 'USD', 3.0, 'DW', \"['MI Crude', 'Crudes: at 16:30 London']\", \"['CRU', 'RI']\", 'Daily (weekdays)', 'Differential', 'North Sea', 'North Sea', 'Physical', 'FOB', 28.0, 600000.0, 'BBL', 'Active - Public', 0.8, '16:30 UK', 'BBL', None, None, None, None, None, None, None, None, None, None, None, None, None, None, None)\n",
      "('AAGZU00', 'CPC Blend CIF Augusta', 'Crude oil', 'Daily (weekday)', \"['c', 'h', 'l']\", 'Benchmark', 'CALLN00', 'Platts - Crude Oil - CPC Blend', 'Spot', 'USD', 3.0, 'DW', \"['MI Crude', 'Crudes: at 16:30 London']\", \"['CRU', 'RI']\", 'Daily (weekdays)', 'Flat', 'Mediterranean', 'Augusta', 'Physical', 'CIF', 43.5, None, None, 'Active - Public', 0.55, '16:30 UK', 'BBL', 'MED', 806.7, None, None, None, None, None, None, None, None, None, None, None, None, None)\n",
      "('AALIN00', 'Urals Recombined (RCMB)', 'Crude oil', 'Daily (weekday)', \"['c', 'h', 'l']\", 'Benchmark', 'CALLN00', 'Platts - Crude Oil - Ural', 'Spot', 'USD', 3.0, 'DW', \"['MI Crude', 'Crudes: at 16:30 London']\", \"['CRU', 'RI']\", 'Daily (weekdays)', 'Flat', 'Mediterranean', 'Augusta', 'Physical', 'CIF', 32.0, None, None, 'Active - Public', 1.3, '16:30 UK', 'BBL', 'MED', 863.5, None, None, None, None, None, None, None, None, None, None, None, None, None)\n"
     ]
    }
   ],
   "source": [
    "r = conn.execute(\"\"\"\n",
    "    select * from spgci_symbols\n",
    "    limit 3;\n",
    "\"\"\")\n",
    "for row in r:\n",
    "    print(row)"
   ]
  },
  {
   "attachments": {},
   "cell_type": "markdown",
   "metadata": {},
   "source": [
    "Example query joining the two datasets"
   ]
  },
  {
   "cell_type": "code",
   "execution_count": 19,
   "metadata": {},
   "outputs": [
    {
     "name": "stdout",
     "output_type": "stream",
     "text": [
      "('PCAAS00', 'Dated Brent', 'USD', 'BBL', 'c', 106.87, datetime.datetime(2011, 8, 5, 0, 0))\n",
      "('PCAAS00', 'Dated Brent', 'USD', 'BBL', 'c', 106.66, datetime.datetime(2011, 11, 1, 0, 0))\n",
      "('PCAAS00', 'Dated Brent', 'USD', 'BBL', 'c', 110.835, datetime.datetime(2011, 11, 2, 0, 0))\n",
      "('PCAAS00', 'Dated Brent', 'USD', 'BBL', 'c', 110.94, datetime.datetime(2011, 11, 3, 0, 0))\n",
      "('PCAAS00', 'Dated Brent', 'USD', 'BBL', 'c', 112.195, datetime.datetime(2011, 11, 4, 0, 0))\n",
      "('PCAAS00', 'Dated Brent', 'USD', 'BBL', 'c', 115.155, datetime.datetime(2011, 11, 7, 0, 0))\n",
      "('PCAAS00', 'Dated Brent', 'USD', 'BBL', 'c', 115.8, datetime.datetime(2011, 11, 8, 0, 0))\n",
      "('PCAAS00', 'Dated Brent', 'USD', 'BBL', 'c', 115.23, datetime.datetime(2011, 11, 9, 0, 0))\n",
      "('PCAAS00', 'Dated Brent', 'USD', 'BBL', 'c', 113.43, datetime.datetime(2011, 11, 10, 0, 0))\n",
      "('PCAAS00', 'Dated Brent', 'USD', 'BBL', 'c', 114.345, datetime.datetime(2011, 11, 11, 0, 0))\n"
     ]
    }
   ],
   "source": [
    "r = conn.execute(\"\"\"\n",
    "  SELECT\n",
    "    s.symbol,\n",
    "    s.description,\n",
    "    s.currency,\n",
    "    s.uom,\n",
    "    a.bate,\n",
    "    a.value,\n",
    "    a.assessDate\n",
    "  FROM\n",
    "    spgci_symbols s\n",
    "    JOIN spgci_assessments a ON s.symbol = a.symbol\n",
    "  WHERE\n",
    "    a.bate = \"c\"\n",
    "  ORDER BY\n",
    "    a.assessDate ASC\n",
    "  LIMIT 10;\n",
    "\"\"\")\n",
    "for row in r:\n",
    "    print(row)               "
   ]
  }
 ],
 "metadata": {
  "kernelspec": {
   "display_name": "Python 3",
   "language": "python",
   "name": "python3"
  },
  "language_info": {
   "codemirror_mode": {
    "name": "ipython",
    "version": 3
   },
   "file_extension": ".py",
   "mimetype": "text/x-python",
   "name": "python",
   "nbconvert_exporter": "python",
   "pygments_lexer": "ipython3",
   "version": "3.10.9"
  },
  "orig_nbformat": 4,
  "vscode": {
   "interpreter": {
    "hash": "b0fa6594d8f4cbf19f97940f81e996739fb7646882a419484c72d19e05852a7e"
   }
  }
 },
 "nbformat": 4,
 "nbformat_minor": 2
}
