{
 "cells": [
  {
   "cell_type": "code",
   "execution_count": null,
   "metadata": {},
   "outputs": [],
   "source": [
    "!pip install spgci"
   ]
  },
  {
   "cell_type": "code",
   "execution_count": 1,
   "metadata": {},
   "outputs": [],
   "source": [
    "import spgci as ci"
   ]
  },
  {
   "cell_type": "code",
   "execution_count": null,
   "metadata": {},
   "outputs": [],
   "source": [
    "ci.set_credentials("username", "password")\n",
    "mdd = ci.MarketData()\n",
    "\n",
    "symbols = [\"PCAAS00\", \"PCAAT00\"]\n",
    "mdd.get_assessments_by_symbol_current(symbol=symbols)"
   ]
  }
 ],
 "metadata": {
  "kernelspec": {
   "display_name": "spgci-wcAZ9YZM-py3.10",
   "language": "python",
   "name": "python3"
  },
  "language_info": {
   "codemirror_mode": {
    "name": "ipython",
    "version": 3
   },
   "file_extension": ".py",
   "mimetype": "text/x-python",
   "name": "python",
   "nbconvert_exporter": "python",
   "pygments_lexer": "ipython3",
   "version": "3.10.9"
  },
  "orig_nbformat": 4,
  "vscode": {
   "interpreter": {
    "hash": "1014a47c46ae5114be3ec7f7a897beb70a9451d83abead7da29661e49e5f5c35"
   }
  }
 },
 "nbformat": 4,
 "nbformat_minor": 2
}
